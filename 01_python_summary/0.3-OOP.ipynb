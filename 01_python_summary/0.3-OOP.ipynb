{
 "cells": [
  {
   "cell_type": "markdown",
   "metadata": {},
   "source": [
    "<div style=\"max-width:66ch;\">\n",
    "\n",
    "# Lecture notes - Python summary part 3 - OOP fundamentals\n",
    "\n",
    "This is a lecture note for **python summary**. It contains\n",
    "\n",
    "- class\n",
    "- instance \n",
    "- attributes \n",
    "- encapsulation\n",
    "- properties\n",
    "- docstring\n",
    "\n",
    "Note that this is an introduction to the subject, you are encouraged to read further. We will only cover enough fundamental parts that will be useful for this course and the next. \n",
    "\n",
    "---\n",
    "\n",
    "</div>\n"
   ]
  },
  {
   "cell_type": "markdown",
   "metadata": {},
   "source": [
    "<div style=\"max-width:66ch;\">\n",
    "\n",
    "## class()\n",
    "\n",
    "class itself is an **object** in Python. An object is a container for data (state) and functionality (behavior)\n",
    "- create a class using the ```class``` keyword \n",
    "- an object is instantiated from the class using the **constructor**, which is the callable syntax using the class name e.g. MyClass()\n",
    "- an object that is instantiated from the class is an **instance** of that class and has that type\n",
    "\n",
    "initialize an object\n",
    "- ```__init__()``` - \"dunder init\" is an **initializer** method which is called when the object is created \n",
    "- - used for setting initial values of **attributes**, which are variables associated with an object\n",
    "- - if not specified, Python will call a default ```__init__()```\n",
    "- **methods** - functions bound to the class\n",
    "- **self** - when a method of an object is called, the object itself is passed into the self parameter (note that self is a convention)\n",
    "- all methods pass the object itself as the first parameter \n",
    "\n",
    "</div>"
   ]
  },
  {
   "cell_type": "code",
   "execution_count": 2,
   "metadata": {},
   "outputs": [
    {
     "name": "stdout",
     "output_type": "stream",
     "text": [
      "person1: <__main__.Antagning object at 0x1130ebc10>\n",
      "person2.program: Data science\n",
      "person2.program: UX\n",
      "person1.name: Kokchun\n",
      "person2.name: Gore Bord\n"
     ]
    }
   ],
   "source": [
    "class Antagning: \n",
    "    # initializer - runs when instance of the class is created\n",
    "    def __init__(self, school, program, name, accept):\n",
    "        # assign the arguments to object attributes\n",
    "        self.school = school \n",
    "        self.program = program\n",
    "        self.name = name\n",
    "        self.accept = accept \n",
    "\n",
    "# note that the object is sent to the self parameter, so you only pass in 4 arguments and not 5\n",
    "person1 = Antagning(\"Cool school\", \"AI\", accept=True, name=\"Kokchun\") # constructor\n",
    "person2 = Antagning(\"Cooler school\", \"Data science\", accept=False, name = \"Gore Bord\") \n",
    "\n",
    "# an object of class Antagning() at a certain memory position in hex code\n",
    "print(f\"person1: {person1}\") \n",
    "\n",
    "# accesses an attribute of the object\n",
    "print(f\"person2.program: {person2.program}\") \n",
    "person2.program = \"UX\" # change an attribute\n",
    "print(f\"person2.program: {person2.program}\")\n",
    "\n",
    "# note that these are different as name are attributes of each object\n",
    "print(f\"person1.name: {person1.name}\")\n",
    "print(f\"person2.name: {person2.name}\")"
   ]
  },
  {
   "cell_type": "markdown",
   "metadata": {},
   "source": [
    "<div style=\"max-width:66ch;\">\n",
    "\n",
    "### Memory address\n",
    " \n",
    "It's useful to be able to check the memory addresses of an instance to get an in depth understanding of what's going on. \n",
    "\n",
    "</div>"
   ]
  },
  {
   "cell_type": "code",
   "execution_count": 11,
   "metadata": {},
   "outputs": [
    {
     "name": "stdout",
     "output_type": "stream",
     "text": [
      "hex(id(person1)) = '0x1130ebc10'\n",
      "hex(id(person2)) = '0x1130eba60'\n",
      "person1 == person2 = False\n",
      "person1 == person1 = True\n"
     ]
    }
   ],
   "source": [
    "# we can see that they point to different memory addresses\n",
    "print(f\"{hex(id(person1)) = }\")\n",
    "print(f\"{hex(id(person2)) = }\")\n",
    "\n",
    "# the reason why we can do equality checking is that Python \n",
    "# by default provides a __eq__ method to each instance \n",
    "# we could overload this operator to e.g. 2 person instances are equal\n",
    "# if their social security number is the same \n",
    "print(f\"{person1 == person2 = }\")\n",
    "print(f\"{person1 == person1 = }\")\n"
   ]
  },
  {
   "cell_type": "markdown",
   "metadata": {},
   "source": [
    "<div style=\"max-width:66ch;\">\n",
    "\n",
    "## \\_\\_repr\\_\\_ \n",
    "\n",
    "- dunder \"repper\" method for representing the object\n",
    "- write in a way for other developers to see how to create the object if possible\n",
    "\n",
    "In jupyter notebooks the \\_\\_repr\\_\\_ is automatically called when it is the last statement in a cell. However in Python scripts (file ending with .py) this is not the case. Instead it shows when you print the instance, which it also does in jupyter notebook. Important to note though is that \\_\\_str\\_\\_ will be called first if it is implemented else it will call \\_\\_repr\\_\\_ when you try to print an instance. \n",
    "\n",
    "\\_\\_repr\\_\\_ is usually for other developers creating unambiguous string representations for recreating an instance of the class while \\_\\_str\\_\\_ should have more human-readable string representation that is used by built-in str() and print() functions.\n",
    "\n",
    "\n",
    "\n",
    "\n",
    "</div>"
   ]
  },
  {
   "cell_type": "code",
   "execution_count": 13,
   "metadata": {},
   "outputs": [
    {
     "name": "stdout",
     "output_type": "stream",
     "text": [
      "Antagning(school='Cool school',program='Haskell', name='Ada Lovelace', accept=True)\n"
     ]
    },
    {
     "data": {
      "text/plain": [
       "Antagning(school='Cool school',program='Haskell', name='Ada Lovelace', accept=True)"
      ]
     },
     "execution_count": 13,
     "metadata": {},
     "output_type": "execute_result"
    }
   ],
   "source": [
    "class Antagning: # creates the class\n",
    "    # initializer - runs when instance of the class is created\n",
    "    def __init__(self, school, program, name, accept):\n",
    "        # assign the arguments to object attributes\n",
    "        self.school = school \n",
    "        self.program = program\n",
    "        self.name = name\n",
    "        self.accept = accept\n",
    "\n",
    "    def __repr__(self):\n",
    "        return f\"Antagning(school='{self.school}',program='{self.program}', name='{self.name}', accept={self.accept})\"\n",
    "\n",
    "s = Antagning(\"Cool school\", \"Haskell\", \"Ada Lovelace\", True) \n",
    "\n",
    "# we see that __repr__ is used in printing as __str__ is not defined\n",
    "print(s)\n",
    "s"
   ]
  },
  {
   "cell_type": "markdown",
   "metadata": {},
   "source": [
    "<div style=\"max-width:66ch;\">\n",
    "\n",
    "## Encapsulation - \"Private attributes\"\n",
    "\n",
    "Encapsulation is a concept in OOP to hide information so that it only can be accessed within the class. Information hiding is used for data hiding, hiding internal state, bundling information to organize code and hiding implementation from the user of the class as they don't need to know the details of how it works underneath. \n",
    "\n",
    "- all attributes in Python are public\n",
    "- by convention you can make an attribute private by using _ in front of it\n",
    "- people knowledgeable in Python knows not to change it outside of the class, however technically you can change a private attribute outside the class\n",
    "- another way to make private attributes is through double underscore \\_\\_ -> which name mangles the attribute\n",
    "- important is to choose a convention and stick to it, don't mix both one underscore and two underscores in your code, that would confuse other people and yourself\n",
    " \n",
    "</div>"
   ]
  },
  {
   "cell_type": "code",
   "execution_count": 14,
   "metadata": {},
   "outputs": [
    {
     "name": "stdout",
     "output_type": "stream",
     "text": [
      "Patient(Gore Bord, Migraine )\n",
      "Change patient name\n",
      "Patient(Gree Bree, Migraine )\n",
      "'Patient' object has no attribute '__diagnosis'\n",
      "{'_name': 'Gree Bree', '_Patient__diagnosis': 'Migraine'}\n",
      "Migraine\n"
     ]
    }
   ],
   "source": [
    "class Patient:\n",
    "    def __init__(self, name, diagnosis):\n",
    "        self._name = name\n",
    "        self.__diagnosis = diagnosis\n",
    "\n",
    "    def __repr__(self):\n",
    "        return f\"Patient({self._name}, {self.__diagnosis} )\"   \n",
    "\n",
    "patient1 = Patient(\"Gore Bord\", \"Migraine\")\n",
    "print(patient1)\n",
    "\n",
    "print(\"Change patient name\")\n",
    "# can change this but really should not\n",
    "patient1._name = \"Gree Bree\"  \n",
    "print(patient1)\n",
    "\n",
    "# try access diagnosis\n",
    "try: \n",
    "     # can't access because named has been mangled \n",
    "    print(patient1.__diagnosis)\n",
    "except AttributeError as err:\n",
    "    print(err)\n",
    "\n",
    "print(patient1.__dict__) # {attributes : attribute_values}\n",
    " # can access the attribute under the mangled name\n",
    "print(patient1._Patient__diagnosis)\n",
    "\n",
    "# this is for understanding purposes, DON'T access private attributes from outside the class "
   ]
  },
  {
   "cell_type": "markdown",
   "metadata": {},
   "source": [
    "### another example"
   ]
  },
  {
   "cell_type": "code",
   "execution_count": 15,
   "metadata": {},
   "outputs": [
    {
     "name": "stdout",
     "output_type": "stream",
     "text": [
      "Coins in stash: 0 riksdaler, 0 skilling\n",
      "You try to deposit -5 riksdaler and 31 skilling. They have to be positive\n",
      "Coins in stash: 0 riksdaler, 0 skilling\n",
      "Coins in stash: 50 riksdaler, 42 skilling\n",
      "You can't withdraw more than you have in your stash\n",
      "Coins in stash: 50 riksdaler, 42 skilling\n",
      "Coins in stash: 25 riksdaler, 22 skilling\n"
     ]
    }
   ],
   "source": [
    "class OldCoinsStash:\n",
    "    def __init__(self, owner):\n",
    "        self.owner = owner\n",
    "\n",
    "        # these attributes are \"private\" - only allow to access them in the class\n",
    "        self._riksdaler = 0\n",
    "        self._skilling = 0\n",
    "\n",
    "    def deposit(self, riksdaler, skilling):\n",
    "        if riksdaler <= 0 or skilling <= 0:\n",
    "            raise ValueError(\n",
    "                f\"You try to deposit {riksdaler} riksdaler and {skilling} skilling. They have to be positive\")\n",
    "\n",
    "        self._riksdaler += riksdaler\n",
    "        self._skilling += skilling\n",
    "\n",
    "    def withdraw(self, riksdaler, skilling):\n",
    "        if riksdaler > self._riksdaler or skilling > self._skilling:\n",
    "            raise ValueError(\n",
    "                f\"You can't withdraw more than you have in your stash\")\n",
    "\n",
    "        self._riksdaler -= riksdaler\n",
    "        self._skilling -= skilling\n",
    "\n",
    "    def check_balance(self):\n",
    "        return f\"Coins in stash: {self._riksdaler} riksdaler, {self._skilling} skilling\"\n",
    "\n",
    "    def __repr__(self):\n",
    "        return f\"OldCoinStash(owner='{self.owner}')\"\n",
    "\n",
    "stash1 = OldCoinsStash(\"Gore Bord\")\n",
    "print(stash1.check_balance())\n",
    "\n",
    "try:\n",
    "    stash1.deposit(-5, 31)  # check if I can rob the stash\n",
    "except ValueError as err:\n",
    "    print(err)\n",
    "\n",
    "print(stash1.check_balance())\n",
    "stash1.deposit(50, 42)\n",
    "print(stash1.check_balance())\n",
    "\n",
    "try:\n",
    "    stash1.withdraw(500, 31)  # check if I can rob the stash again\n",
    "except ValueError as err:\n",
    "    print(err)\n",
    "\n",
    "print(stash1.check_balance())\n",
    "stash1.withdraw(25, 20)\n",
    "print(stash1.check_balance())\n",
    "\n",
    "# there are ways to rob the stash -> try and see if you can find them :)\n",
    "# then try to fix this bug (or feature ;) ?)\n"
   ]
  },
  {
   "cell_type": "markdown",
   "metadata": {},
   "source": [
    "<div style=\"max-width:66ch;\">\n",
    "\n",
    "---\n",
    "## Property and documentation\n",
    "\n",
    "- you normally want to expose as little attributes as possible without having control over them\n",
    "- getter and setter are used in other languages as interface to the class\n",
    "- in Python property gives similar getter and setter interface for accessing attributes instead of accessing the bare attribute, but with cleaner syntax\n",
    "- can include error handling and other checks in setters\n",
    "- can make computed properties, that is properties that before it returns gets computed\n",
    "- can make read-only property and properties with both read and write access\n",
    "\n",
    "### Docstring\n",
    "- docstring for documenting your class, use three quotes \"\"\" \"\"\" after class name\n",
    "- always write a docstring so that you, or other developers can easily understand your classes and methods \n",
    "- shows up when calling help()\n",
    "\n",
    "### Type hinting\n",
    "- Python is a dynamic language and hence the type is inferred \n",
    "- use type hinting to annotate parameters and return types\n",
    "\n",
    "\n",
    "</div>"
   ]
  },
  {
   "cell_type": "code",
   "execution_count": 25,
   "metadata": {},
   "outputs": [
    {
     "name": "stdout",
     "output_type": "stream",
     "text": [
      "can't set attribute\n",
      "Gore Bord\n",
      "<class '__main__.Student'>\n",
      "Student(name=Gore Bord, age=58, active=True) \n",
      "\n",
      "[Student(name=Gore Bord, age=35, active=True), Student(name=Har Pon, age=22, active=False), Student(name=Yo Lo, age=12, active=False)]\n",
      "Gore Bord\n",
      "There are 4 students created\n",
      "Age must be either int or float not <class 'str'>\n"
     ]
    }
   ],
   "source": [
    "from numbers import Number\n",
    "\n",
    "class Student:\n",
    "    \"\"\"Student class for representing students with name, age and active \"\"\"\n",
    "    \n",
    "    number_students = 0 # class variable - create before __init__\n",
    "\n",
    "    # note the type hinting\n",
    "    def __init__(self, name: str, age: int, active: bool) -> None: \n",
    "        self._name = name # note no underscore\n",
    "        self.age = age\n",
    "        self.active = active\n",
    "        Student.number_students += 1 # access class variable \n",
    "\n",
    "    # read only property - only has a getter, no setter as we don't want to change the name\n",
    "    @property\n",
    "    def name(self) -> str:\n",
    "        \"\"\" Read-only property, can't set the name\"\"\"\n",
    "        return self._name # note underscore\n",
    "\n",
    "    @property\n",
    "    def age(self) -> float:\n",
    "        return self._age\n",
    "\n",
    "    @age.setter  # note the name must be same as under the property decorator\n",
    "    def age(self, value: float) -> None:\n",
    "        \"\"\" Setter for for age with error handling\"\"\"\n",
    "        if not isinstance(value, Number):\n",
    "            raise TypeError(\n",
    "                f\"Age must be either int or float not {type(value)}\")\n",
    "\n",
    "        if not (0 < value < 125):\n",
    "            raise ValueError(\"Your age must be between 1 and 124\")\n",
    "\n",
    "        self._age = value\n",
    "\n",
    "    def __repr__(self) -> str:\n",
    "        return f\"Student(name={self.name}, age={self.age}, active={self.active})\"\n",
    "\n",
    "\n",
    "\n",
    "# see what happens when you hover over the Student class\n",
    "s1 = Student(\"Gore Bord\", 55, True)\n",
    "try:\n",
    "    s1.name = \"Gure Burd\"  # can't set read-only properties\n",
    "except AttributeError as err:\n",
    "    print(err)\n",
    "\n",
    "print(s1.name)\n",
    "s1.age = 58\n",
    "\n",
    "print(Student)\n",
    "print(s1, \"\\n\")  # calls the __repr__ method\n",
    "\n",
    "students = [Student(\"Gore Bord\", 35, True), Student(\"Har Pon\", 22, False), Student(\"Yo Lo\", 12, False)]\n",
    "print(students)\n",
    "print(students[0].name)\n",
    "\n",
    "print(f\"There are {Student.number_students} students created\")\n",
    "\n",
    "try:\n",
    "    students[1].age = \"23.4\"\n",
    "except TypeError as err:\n",
    "    print(err)"
   ]
  },
  {
   "cell_type": "markdown",
   "metadata": {},
   "source": [
    "<div style=\"max-width:66ch;\">\n",
    "\n",
    "\n",
    "### Example of a docstring with ChatGPT \n",
    "\n",
    "You can ask an LLM to generate docstring for you, but be wary about sensitive data, code, e.g. company code, when working. Also it's important to check if the docstring makes sense and modify it in need.  \n",
    "\n",
    "</div>"
   ]
  },
  {
   "cell_type": "code",
   "execution_count": 5,
   "metadata": {},
   "outputs": [
    {
     "name": "stdout",
     "output_type": "stream",
     "text": [
      "Hello, I'm Kokchun!\n"
     ]
    },
    {
     "data": {
      "text/plain": [
       "34"
      ]
     },
     "execution_count": 5,
     "metadata": {},
     "output_type": "execute_result"
    }
   ],
   "source": [
    "class Person:\n",
    "    \"\"\"\n",
    "    A class representing a person.\n",
    "\n",
    "    Attributes:\n",
    "    - name (str): The name of the person.\n",
    "    - age (int): The age of the person.\n",
    "    - gender (str): The gender of the person ('Male', 'Female', 'Non-binary', etc.).\n",
    "\n",
    "    Methods:\n",
    "    - greet(): Prints a greeting message.\n",
    "    - have_birthday(): Increments the age of the person by one.\n",
    "\n",
    "    Example usage:\n",
    "    >>> person1 = Person(\"Alice\", 25, \"Female\")\n",
    "    >>> person1.greet()\n",
    "    Hello, I'm Alice!\n",
    "    >>> person1.have_birthday()\n",
    "    >>> person1.age\n",
    "    26\n",
    "    \"\"\"\n",
    "    \n",
    "    def __init__(self, name, age, gender):\n",
    "        \"\"\"\n",
    "        Initializes a new instance of the Person class.\n",
    "\n",
    "        Parameters:\n",
    "        - name (str): The name of the person.\n",
    "        - age (int): The age of the person.\n",
    "        - gender (str): The gender of the person.\n",
    "        \"\"\"\n",
    "        self.name = name\n",
    "        self.age = age\n",
    "        self.gender = gender\n",
    "\n",
    "    def greet(self):\n",
    "        \"\"\"Prints a greeting message.\"\"\"\n",
    "        print(f\"Hello, I'm {self.name}!\")\n",
    "\n",
    "    def have_birthday(self):\n",
    "        \"\"\"Increments the age of the person by one.\"\"\"\n",
    "        self.age += 1\n",
    "\n",
    "\n",
    "person = Person(\"Kokchun\", 33, \"M\")\n",
    "person.greet()\n",
    "person.have_birthday()\n",
    "person.age\n"
   ]
  },
  {
   "cell_type": "markdown",
   "metadata": {},
   "source": [
    "<div style=\"max-width:66ch;\">\n",
    "\n",
    "---\n",
    "\n",
    "## Summary\n",
    "\n",
    "In this lecture we've covered the very basics of object oriented programming in Python, including classes, instances, attributes, properties, encapsulation, private by convention, memory addresses and \\_\\_repr\\_\\_. \n",
    "\n",
    "---\n",
    "\n",
    "</div>"
   ]
  },
  {
   "cell_type": "markdown",
   "metadata": {},
   "source": [
    "<div style=\"background-color: #FFF; color: #212121; border-radius: 1px; width:22ch; box-shadow: rgba(0, 0, 0, 0.16) 0px 1px 4px; display: flex; justify-content: center; align-items: center;\">\n",
    "<div style=\"padding: 1.5em 0; width: 70%;\">\n",
    "    <h2 style=\"font-size: 1.2rem;\">Kokchun Giang</h2>\n",
    "    <a href=\"https://www.linkedin.com/in/kokchungiang/\" target=\"_blank\" style=\"display: flex; align-items: center; gap: .4em; color:#0A66C2;\">\n",
    "        <img src=\"https://content.linkedin.com/content/dam/me/business/en-us/amp/brand-site/v2/bg/LI-Bug.svg.original.svg\" width=\"20\"> \n",
    "        LinkedIn profile\n",
    "    </a>\n",
    "    <a href=\"https://github.com/kokchun/Portfolio-Kokchun-Giang\" target=\"_blank\" style=\"display: flex; align-items: center; gap: .4em; margin: 1em 0; color:#0A66C2;\">\n",
    "        <img src=\"https://github.githubassets.com/images/modules/logos_page/GitHub-Mark.png\" width=\"20\"> \n",
    "        Github portfolio\n",
    "    </a>\n",
    "    <span>AIgineer AB</span>\n",
    "<div>\n",
    "</div>\n"
   ]
  }
 ],
 "metadata": {
  "kernelspec": {
   "display_name": "ai-part-1-handelsakademin-5RQamIMR-py3.9",
   "language": "python",
   "name": "python3"
  },
  "language_info": {
   "codemirror_mode": {
    "name": "ipython",
    "version": 3
   },
   "file_extension": ".py",
   "mimetype": "text/x-python",
   "name": "python",
   "nbconvert_exporter": "python",
   "pygments_lexer": "ipython3",
   "version": "3.9.9"
  },
  "orig_nbformat": 4
 },
 "nbformat": 4,
 "nbformat_minor": 2
}
