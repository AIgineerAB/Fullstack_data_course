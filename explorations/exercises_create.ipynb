{
 "cells": [
  {
   "cell_type": "code",
   "execution_count": 6,
   "metadata": {},
   "outputs": [
    {
     "name": "stdout",
     "output_type": "stream",
     "text": [
      "|    | name    | department   |\n",
      "|---:|:--------|:-------------|\n",
      "|  0 | Alice   | HR           |\n",
      "|  1 | Bob     | IT           |\n",
      "|  2 | Charlie | HR           |\n"
     ]
    }
   ],
   "source": [
    "import pandas as pd \n",
    "\n",
    "data = [\n",
    "    {\"name\": \"Alice\", \"department\": \"HR\"},\n",
    "    {\"name\": \"Bob\", \"department\": \"IT\"},\n",
    "    {\"name\": \"Charlie\", \"department\": \"HR\"},\n",
    "]\n",
    "\n",
    "df = pd.DataFrame(data).to_markdown()\n",
    "print(df)"
   ]
  },
  {
   "cell_type": "code",
   "execution_count": 8,
   "metadata": {},
   "outputs": [],
   "source": [
    "data[0][\"age\"] = None"
   ]
  },
  {
   "cell_type": "code",
   "execution_count": 9,
   "metadata": {},
   "outputs": [
    {
     "data": {
      "text/plain": [
       "[{'name': 'Alice', 'department': 'HR', 'age': None},\n",
       " {'name': 'Bob', 'department': 'IT'},\n",
       " {'name': 'Charlie', 'department': 'HR'}]"
      ]
     },
     "execution_count": 9,
     "metadata": {},
     "output_type": "execute_result"
    }
   ],
   "source": [
    "data"
   ]
  },
  {
   "cell_type": "code",
   "execution_count": null,
   "metadata": {},
   "outputs": [],
   "source": []
  }
 ],
 "metadata": {
  "kernelspec": {
   "display_name": ".venv",
   "language": "python",
   "name": "python3"
  },
  "language_info": {
   "codemirror_mode": {
    "name": "ipython",
    "version": 3
   },
   "file_extension": ".py",
   "mimetype": "text/x-python",
   "name": "python",
   "nbconvert_exporter": "python",
   "pygments_lexer": "ipython3",
   "version": "3.11.8"
  }
 },
 "nbformat": 4,
 "nbformat_minor": 2
}
