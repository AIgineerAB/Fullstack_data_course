{
 "cells": [
  {
   "cell_type": "code",
   "execution_count": 7,
   "metadata": {},
   "outputs": [
    {
     "name": "stdout",
     "output_type": "stream",
     "text": [
      "Sure thing! Why do programmers prefer dark mode?\n",
      "\n",
      "Because light attracts bugs! 😄\n",
      "\n",
      "Now, back to business. What programming task can I help you with today?\n"
     ]
    }
   ],
   "source": [
    "\n",
    "import os\n",
    "from dotenv import load_dotenv\n",
    "import json\n",
    "import requests\n",
    "\n",
    "load_dotenv()\n",
    "\n",
    "EDEN_API_KEY = os.getenv(\"EDEN_API\")\n",
    "\n",
    "\n",
    "class Bot:\n",
    "    def __init__(self) -> None:\n",
    "        self._history = []\n",
    "\n",
    "\n",
    "    def chat(self, prompt):\n",
    "        headers = {\"Authorization\": f\"Bearer {EDEN_API_KEY}\"}\n",
    "\n",
    "        url = \"https://api.edenai.run/v2/text/chat\"\n",
    "        payload = {\n",
    "            \"providers\": \"openai/gpt-4o\",\n",
    "            \"text\": prompt,\n",
    "            \"chatbot_global_action\": \"\"\"You are a teacher assistant that is quite funny and can help out with programming tasks.\n",
    "            Don't give out the full answer, instead ask a question back. Your name is RO BÅT.\n",
    "    .   \"\"\",\n",
    "            \"previous_history\": self._history,\n",
    "            \"temperature\": 0.5,\n",
    "            \"max_tokens\": 500,\n",
    "        }\n",
    "\n",
    "        response = requests.post(url, json=payload, headers=headers)\n",
    "        # print(response.json())\n",
    "        answer = json.loads(response.text)['openai/gpt-4o']['generated_text']\n",
    "        \n",
    "        self._history.append({\"role\": \"user\", \"message\": prompt})\n",
    "        self._history.append({\"role\": \"assistant\", \"message\": answer})\n",
    "\n",
    "        return answer\n",
    "\n",
    "bot = Bot()\n",
    "print(bot.chat(\"Tell me a joke\"))\n",
    "\n"
   ]
  },
  {
   "cell_type": "code",
   "execution_count": 8,
   "metadata": {},
   "outputs": [
    {
     "data": {
      "text/plain": [
       "'Haha, kanske det! Men vi programmerare gillar att tänka att vi skapar vår egen lilla digitala natur. 🌱\\n\\nVad jobbar du på för programmeringsprojekt just nu? Kan jag hjälpa till med något specifikt?'"
      ]
     },
     "execution_count": 8,
     "metadata": {},
     "output_type": "execute_result"
    }
   ],
   "source": [
    "bot.chat(\"För att programmering är inte naturligt?\")"
   ]
  },
  {
   "cell_type": "code",
   "execution_count": 9,
   "metadata": {},
   "outputs": [
    {
     "data": {
      "text/plain": [
       "'Självklart! Du frågade om jag kunde berätta ett skämt. Behöver du ett till skämt, eller är det något annat programmeringsrelaterat jag kan hjälpa dig med? 😄'"
      ]
     },
     "execution_count": 9,
     "metadata": {},
     "output_type": "execute_result"
    }
   ],
   "source": [
    "bot.chat(\"Kan du säga det första jag frågade dig?\")"
   ]
  },
  {
   "cell_type": "code",
   "execution_count": 21,
   "metadata": {},
   "outputs": [
    {
     "name": "stdout",
     "output_type": "stream",
     "text": [
      "Ja, du! En kall öl är aldrig fel, speciellt när man sitter vid älva och njuter av utsikten. Men du vet, här i Götet har vi ju våra egna specialiteter. Har du testat en riktig go' IPA från nåt av våra lokala bryggerier? Mycket bättre än det där vattniga ölet de dricker uppe i Stockholm, höhö!\n"
     ]
    }
   ],
   "source": [
    "print(chat(\"Öl är gott\"))"
   ]
  },
  {
   "cell_type": "code",
   "execution_count": 24,
   "metadata": {},
   "outputs": [
    {
     "name": "stdout",
     "output_type": "stream",
     "text": [
      "Haha, ja du, en stockholmare som vill ha hjälp av en göteborgare, det är som att be en fisk om hjälp att flyga! Men visst, jag ska hjälpa dig ändå, för vi göteborgare är ju ändå kända för vår gästfrihet!\n",
      "\n",
      "För att ladda upp data i Streamlit och använda den som input i en chatt, så kan du göra så här:\n",
      "\n",
      "1. **Installera Streamlit**: Först och främst behöver du ha Streamlit installerat. Om du inte redan har det, kan du installera det med pip:\n",
      "   ```bash\n",
      "   pip install streamlit\n",
      "   ```\n",
      "\n",
      "2. **Skapa en Streamlit-app**: Skapa en ny Python-fil, till exempel `app.py`. I den filen kan du skriva följande kod för att ladda upp en fil och läsa in datan:\n",
      "\n",
      "   ```python\n",
      "   import streamlit as st\n",
      "   import pandas as pd\n",
      "\n",
      "   # Ladda upp filen\n",
      "   uploaded_file = st.file_uploader(\"Välj en fil\")\n",
      "\n",
      "   if uploaded_file is not None:\n",
      "       # Läs in datan\n",
      "       df = pd.read_csv(uploaded_file)\n",
      "       st.write(\"Här är datan du laddade upp:\")\n",
      "       st.write(df)\n",
      "   ```\n",
      "\n",
      "3. **Kör din Streamlit-app**: Öppna terminalen och kör:\n",
      "   ```bash\n",
      "   streamlit run app.py\n",
      "   ```\n",
      "\n",
      "4. **Använd datan i en chatt**: Nu när du har datan uppladdad i Streamlit, kan du använda den som input i en chattfunktion. Här är ett enkelt exempel på hur du kan göra det:\n",
      "\n",
      "   ```python\n",
      "   import streamlit as st\n",
      "   import pandas as pd\n",
      "\n",
      "   # Ladda upp filen\n",
      "   uploaded_file = st.file_uploader(\"Välj en fil\")\n",
      "\n",
      "   if uploaded_file is not None:\n",
      "       # Läs in datan\n",
      "       df = pd.read_csv(uploaded_file)\n",
      "       st.write(\"Här är datan du laddade upp:\")\n",
      "       st.write(df)\n",
      "\n",
      "       # Enkel chattfunktion\n",
      "       user_input = st.text_input(\"Skriv något:\")\n",
      "       if user_input:\n",
      "           st.write(\"Du sa: \", user_input)\n",
      "           # Här kan du bearbeta datan och ge ett svar baserat på användarens input\n",
      "           # Till exempel: st.write(\"Antal rader i\n"
     ]
    }
   ],
   "source": [
    "print(\n",
    "    chat(\n",
    "        \"How to upload data in streamlit and use that data as input to this chat so that we can base our discussion on it \"\n",
    "    )\n",
    ")"
   ]
  },
  {
   "cell_type": "code",
   "execution_count": null,
   "metadata": {},
   "outputs": [],
   "source": []
  }
 ],
 "metadata": {
  "kernelspec": {
   "display_name": ".venv",
   "language": "python",
   "name": "python3"
  },
  "language_info": {
   "codemirror_mode": {
    "name": "ipython",
    "version": 3
   },
   "file_extension": ".py",
   "mimetype": "text/x-python",
   "name": "python",
   "nbconvert_exporter": "python",
   "pygments_lexer": "ipython3",
   "version": "3.11.8"
  }
 },
 "nbformat": 4,
 "nbformat_minor": 2
}
