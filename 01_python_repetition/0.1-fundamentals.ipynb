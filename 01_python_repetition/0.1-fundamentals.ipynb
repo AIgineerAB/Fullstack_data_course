{
 "cells": [
  {
   "cell_type": "markdown",
   "metadata": {},
   "source": [
    "<div style=\"max-width:66ch;\">\n",
    "\n",
    "\n",
    "# Lecture notes - Python summary part 1\n",
    "\n",
    "this is a lecture note for **python summary**. It contains\n",
    "\n",
    "- output\n",
    "- data types\n",
    "- collections (list, set, tuple, dict)\n",
    "- strings\n",
    "- if-statements\n",
    "- for-statements\n",
    "- while-statements\n",
    "\n",
    "Note that this is an introduction to the subject, you are encouraged to read further. We will only cover enough fundamental parts that will be useful for this course and the next. \n",
    "\n",
    "---\n",
    "\n",
    "</div>\n"
   ]
  },
  {
   "cell_type": "markdown",
   "metadata": {},
   "source": [
    "<div style=\"max-width:66ch;\">\n",
    "\n",
    "## Data types\n",
    "\n",
    "Python is a <b>dynamically typed</b> language and the data types are determined at <b>runtime</b>, not at compiled-time. This means that you don't have to declare the data type in the definition in contrast to statically typed languages such as C#, Java, C++ ... \n",
    "\n",
    "\n",
    "<table border=\"1\", style=\"text-transform: lowercase; display:inline-block; text-align:left;\">\n",
    "    <tr style=\"background-color: #174A7E; color: white;\">\n",
    "        <th>Data Type</th>\n",
    "        <th>Examples</th>\n",
    "        <th>Comment</th>\n",
    "    </tr>\n",
    "    <tr>\n",
    "        <td>int</td>\n",
    "        <td>42, -3, 0</td>\n",
    "        <td></td>\n",
    "    </tr>\n",
    "    <tr>\n",
    "        <td>float</td>\n",
    "        <td>3.14, -0.5, 2.0</td>\n",
    "        <td></td>\n",
    "    </tr>\n",
    "    <tr>\n",
    "        <td>str</td>\n",
    "        <td>'Hello', \"Python\", '123'</td>\n",
    "        <td>\n",
    "            Store Text\n",
    "            <ul>\n",
    "                <li>Immutable</li>\n",
    "                <li>Indexing</li>\n",
    "                <li>Slicing</li>\n",
    "                <li>Concatenation</li>\n",
    "                <li>String Formatting</li>\n",
    "                <li>Length</li>\n",
    "                <li>String Methods</li>\n",
    "                <li>Iteration</li>\n",
    "                <li>String Comparison</li>\n",
    "                <li>String Conversion</li>\n",
    "            </ul>\n",
    "        </td>\n",
    "    </tr>\n",
    "    <tr>\n",
    "        <td>list</td>\n",
    "        <td>[1, 2, 3]<br>['apple', 'banana', 'cherry']</td>\n",
    "        <td>storing elements, can have different types\n",
    "            <ul>\n",
    "                <li>index, slice, append, insert, delete </li>\n",
    "                <li>sorting, reversing </li>\n",
    "                <li>check length, iterate over</li>\n",
    "                <li>list comprehension</li>\n",
    "                <li>mutable</li>\n",
    "            </ul>\n",
    "        </td>\n",
    "    </tr>\n",
    "    <tr>\n",
    "        <td>tuple</td>\n",
    "        <td>(1, 2, 3)<br>('apple', 'banana', 'cherry')</td>\n",
    "        <td>\n",
    "            storing elements, can have different data types\n",
    "        <ul>\n",
    "            <li>immutable</li>\n",
    "            <li>index, slice</li>\n",
    "            <li>iteration</li>\n",
    "        </td>\n",
    "    </tr>\n",
    "    <tr>\n",
    "        <td>dict</td>\n",
    "        <td>{'name': 'John', 'age': 30}<br>{'fruit': 'apple', 'color': 'red'}</td>\n",
    "        <td>\n",
    "            store key-value pairs</li>\n",
    "            <ul>\n",
    "                <li>Fast Lookup</li>\n",
    "                <li>Mutable</li>\n",
    "                <li>Unordered</li>\n",
    "                <li>Key-Based Access</li>\n",
    "                <li>Iteration</li>\n",
    "                <li>Checking for Key Existence</li>\n",
    "                <li>Dictionary Comprehensions</li>\n",
    "            </ul>\n",
    "        </td>\n",
    "    </tr>\n",
    "    <tr>\n",
    "        <td>bool</td>\n",
    "        <td>True, False</td>\n",
    "        <td>represent binary logic</td>\n",
    "    </tr>\n",
    "    <tr>\n",
    "        <td>set</td>\n",
    "        <td>{1,\"a\", True, 3.3, 3.2}</td>\n",
    "        <td>store unique elementst\n",
    "            <ul>\n",
    "                <li>Duplicate Removal</li>\n",
    "                <li>Set Operations</li>\n",
    "                <li>Membership Testing</li>\n",
    "                <li>Iteration</li>\n",
    "                <li>Mathematical Modeling</li>\n",
    "                <li>Removing Items</li>\n",
    "                <li>Frozensets</li>\n",
    "                <li>Deduplicate Lists</li>\n",
    "                <li>Checking for Subsets</li>\n",
    "            </ul> \n",
    "        </td>\n",
    "    </tr>\n",
    "</table>\n",
    "\n",
    "</div>\n"
   ]
  },
  {
   "cell_type": "code",
   "execution_count": 1,
   "metadata": {},
   "outputs": [
    {
     "data": {
      "text/plain": [
       "('Kokchun', 32.8, 1, True)"
      ]
     },
     "execution_count": 1,
     "metadata": {},
     "output_type": "execute_result"
    }
   ],
   "source": [
    "name = \"Kokchun\"\n",
    "age = 32.8\n",
    "number_of_children = 1\n",
    "loves_math = True\n",
    "\n",
    "\"\"\"\n",
    "this gives a tuple as output\n",
    "note that the last statement in a jupyter notebook cell is printed out, \n",
    "this is not the case for Python scripts\n",
    "\"\"\"\n",
    "\n",
    "name, age, number_of_children, loves_math"
   ]
  },
  {
   "cell_type": "markdown",
   "metadata": {},
   "source": [
    "### f-strings\n"
   ]
  },
  {
   "cell_type": "code",
   "execution_count": 7,
   "metadata": {},
   "outputs": [
    {
     "name": "stdout",
     "output_type": "stream",
     "text": [
      "type(name) is <class 'str'>\n",
      "type(age) is <class 'float'>\n",
      "type(number_of_children) is <class 'int'>\n",
      "type(loves_math) is <class 'bool'>\n"
     ]
    }
   ],
   "source": [
    "# type(variable) is read out as \"type of variable\"\n",
    "# here we use f-strings or formatted strings to incorporate strings and variables\n",
    "print(f\"type(name) is {type(name)}\")\n",
    "print(f\"type(age) is {type(age)}\")\n",
    "print(f\"type(number_of_children) is {type(number_of_children)}\")\n",
    "print(f\"type(loves_math) is {type(loves_math)}\")"
   ]
  },
  {
   "cell_type": "markdown",
   "metadata": {},
   "source": [
    "<div style=\"max-width:66ch;\">\n",
    "\n",
    "---\n",
    "### Collection types\n",
    "\n",
    "- dictionary\n",
    "- list\n",
    "- tuple\n",
    "- set\n",
    "\n",
    "</div>"
   ]
  },
  {
   "cell_type": "markdown",
   "metadata": {},
   "source": [
    "#### list\n",
    "\n",
    "- list creation\n",
    "- append to a list\n",
    "- access elements\n",
    "- list comprehension\n"
   ]
  },
  {
   "cell_type": "code",
   "execution_count": 16,
   "metadata": {},
   "outputs": [
    {
     "data": {
      "text/plain": [
       "['Kokchun', 32.8, 1, True]"
      ]
     },
     "execution_count": 16,
     "metadata": {},
     "output_type": "execute_result"
    }
   ],
   "source": [
    "interests = [\"badminton\", \"yoga\", \"math\", \"programming\"]\n",
    "# can also have elements with different data types\n",
    "person = [\"Kokchun\", 32.8, 1, True]\n",
    "\n",
    "person"
   ]
  },
  {
   "cell_type": "code",
   "execution_count": 17,
   "metadata": {},
   "outputs": [
    {
     "data": {
      "text/plain": [
       "['Kokchun', 32.8, 1, True, ['badminton', 'yoga', 'math', 'programming']]"
      ]
     },
     "execution_count": 17,
     "metadata": {},
     "output_type": "execute_result"
    }
   ],
   "source": [
    "# we have mutated the list by appending interests list to it\n",
    "person.append(interests)\n",
    "person"
   ]
  },
  {
   "cell_type": "markdown",
   "metadata": {},
   "source": [
    "**Accessing elements in a list**\n"
   ]
  },
  {
   "cell_type": "code",
   "execution_count": 24,
   "metadata": {},
   "outputs": [
    {
     "name": "stdout",
     "output_type": "stream",
     "text": [
      "person[0] = 'Kokchun'\n",
      "person[2] = 1\n",
      "person[-1] = ['badminton', 'yoga', 'math', 'programming']\n",
      "person[2] = 1\n",
      "person[-1][-2] = 'math'\n"
     ]
    }
   ],
   "source": [
    "# access elements, note index starts at 0\n",
    "print(f\"{person[0] = }\")\n",
    "print(f\"{person[2] = }\")\n",
    "print(f\"{person[-1] = }\")  # negative index starts backwards\n",
    "print(f\"{person[2] = }\")\n",
    "print(f\"{person[-1][-2] = }\")"
   ]
  },
  {
   "cell_type": "markdown",
   "metadata": {},
   "source": [
    "**Slicing a list**\n"
   ]
  },
  {
   "cell_type": "code",
   "execution_count": 42,
   "metadata": {},
   "outputs": [
    {
     "name": "stdout",
     "output_type": "stream",
     "text": [
      "original list\n",
      "person = ['Kokchun', 32.8, 1, True, ['badminton', 'yoga', 'math', 'programming']]\n",
      "\n",
      "slice from 0 to 2 (exclusive)\n",
      "person[:2] = ['Kokchun', 32.8]\n",
      "\n",
      "every second element\n",
      "person[0::2] = ['Kokchun', 1, ['badminton', 'yoga', 'math', 'programming']]\n",
      "\n",
      "reverse\n",
      "person[::-1] = [['badminton', 'yoga', 'math', 'programming'], True, 1, 32.8, 'Kokchun']\n"
     ]
    }
   ],
   "source": [
    "print(\"original list\")\n",
    "print(f\"{person = }\\n\")\n",
    "\n",
    "print(\"slice from 0 to 2 (exclusive)\")\n",
    "print(f\"{person[:2] = }\\n\")\n",
    "\n",
    "print(\"every second element\")\n",
    "print(f\"{person[0::2] = }\\n\")\n",
    "\n",
    "print(\"reverse\")\n",
    "# reverse a list  as we start from 0 and end in 0 but traverses the list in reverse order\n",
    "print(f\"{person[::-1] = }\")"
   ]
  },
  {
   "cell_type": "markdown",
   "metadata": {},
   "source": [
    "<div style=\"max-width:66ch;\">\n",
    "\n",
    "**Iterating over lists**\n",
    "\n",
    "for statement should be used when\n",
    "\n",
    "- we know number of times it should iterate\n",
    "- we want to traverse through each element in a collection\n",
    "\n",
    "while statement should be used when\n",
    "\n",
    "- we don't know number of times it will iterate\n",
    "- we have a condition when to stop, can be seen colloquially as if-loop\n",
    "\n",
    "</div>"
   ]
  },
  {
   "cell_type": "code",
   "execution_count": 67,
   "metadata": {},
   "outputs": [
    {
     "name": "stdout",
     "output_type": "stream",
     "text": [
      "numbers = [0, 1, 2, 3, 4, 5, 6, 7, 8, 9]\n",
      "squares = [0, 1, 4, 9, 16, 25, 36, 49, 64, 81]\n",
      "cubes = [0, 1, 8, 27, 64, 125, 216, 343]\n",
      "8 cubes before we go over 500\n"
     ]
    }
   ],
   "source": [
    "numbers = []\n",
    "for i in range(10):\n",
    "    numbers.append(i)\n",
    "\n",
    "print(f\"{numbers = }\")\n",
    "\n",
    "squares = []\n",
    "# looping through a list with for\n",
    "for number in numbers:\n",
    "    squares.append(number**2)\n",
    "\n",
    "print(f\"{squares = }\")\n",
    "\n",
    "# cube as long as the result is lower than 500\n",
    "i, cubes = 0, [0]  # multiple assignment\n",
    "while (i + 1) ** 3 < 500:  # to avoid off-by-one error\n",
    "    i += 1\n",
    "    cubes.append(i**3)\n",
    "\n",
    "print(f\"{cubes = }\")\n",
    "\n",
    "print(f\"{len(cubes)} cubes before we go over 500\")"
   ]
  },
  {
   "cell_type": "markdown",
   "metadata": {},
   "source": [
    "**list comprehensions for list creations**\n"
   ]
  },
  {
   "cell_type": "code",
   "execution_count": 69,
   "metadata": {},
   "outputs": [
    {
     "name": "stdout",
     "output_type": "stream",
     "text": [
      "numbers = [0, 1, 2, 3, 4, 5, 6, 7, 8, 9]\n",
      "squares = [0, 1, 4, 9, 16, 25, 36, 49, 64, 81]\n",
      "cubes = [0, 1, 8, 27, 64, 125, 216, 343]\n"
     ]
    }
   ],
   "source": [
    "numbers = [number for number in range(10)]\n",
    "squares = [number**2 for number in range(10)]\n",
    "\n",
    "# if-statement in list comprehension\n",
    "cubes = [number**3 for number in range(10) if number ** 3 < 500]\n",
    "\n",
    "print(f\"{numbers = }\")\n",
    "print(f\"{squares = }\")\n",
    "print(f\"{cubes = }\")"
   ]
  },
  {
   "cell_type": "markdown",
   "metadata": {},
   "source": [
    "#### tuple - an immutable collection\n",
    "\n",
    "- useful when you don't want the collection to change\n"
   ]
  },
  {
   "cell_type": "code",
   "execution_count": 114,
   "metadata": {},
   "outputs": [
    {
     "data": {
      "text/plain": [
       "('Kokchun', 32.8, 1, True)"
      ]
     },
     "execution_count": 114,
     "metadata": {},
     "output_type": "execute_result"
    }
   ],
   "source": [
    "person = (\"Kokchun\", 32.8, 1, True)\n",
    "person"
   ]
  },
  {
   "cell_type": "code",
   "execution_count": 117,
   "metadata": {},
   "outputs": [
    {
     "ename": "TypeError",
     "evalue": "'tuple' object does not support item assignment",
     "output_type": "error",
     "traceback": [
      "\u001b[0;31m---------------------------------------------------------------------------\u001b[0m",
      "\u001b[0;31mTypeError\u001b[0m                                 Traceback (most recent call last)",
      "\u001b[1;32m/Users/kokchungiang/Documents/AIgineer/AI-part-1-handelsakademin/lecture-notes/1. python-summary/Lec1.0-fundamentals.ipynb Cell 21\u001b[0m line \u001b[0;36m2\n\u001b[1;32m      <a href='vscode-notebook-cell:/Users/kokchungiang/Documents/AIgineer/AI-part-1-handelsakademin/lecture-notes/1.%20python-summary/Lec1.0-fundamentals.ipynb#X54sZmlsZQ%3D%3D?line=0'>1</a>\u001b[0m \u001b[39m# doesn't support item assignment\u001b[39;00m\n\u001b[0;32m----> <a href='vscode-notebook-cell:/Users/kokchungiang/Documents/AIgineer/AI-part-1-handelsakademin/lecture-notes/1.%20python-summary/Lec1.0-fundamentals.ipynb#X54sZmlsZQ%3D%3D?line=1'>2</a>\u001b[0m person[\u001b[39m2\u001b[39;49m] \u001b[39m=\u001b[39m \u001b[39m12\u001b[39m\n",
      "\u001b[0;31mTypeError\u001b[0m: 'tuple' object does not support item assignment"
     ]
    }
   ],
   "source": [
    "# doesn't support item assignment\n",
    "person[2] = 12"
   ]
  },
  {
   "cell_type": "markdown",
   "metadata": {},
   "source": [
    "#### set - a unique collection\n"
   ]
  },
  {
   "cell_type": "code",
   "execution_count": 89,
   "metadata": {},
   "outputs": [
    {
     "name": "stdout",
     "output_type": "stream",
     "text": [
      "dices = [3, 1, 2, 4, 4, 4, 3, 4, 6, 4, 1, 4, 4, 4, 3, 5, 5, 1, 2, 5]\n",
      "unique_dices = {1, 2, 3, 4, 5, 6}\n"
     ]
    }
   ],
   "source": [
    "import random as rnd\n",
    "\n",
    "dices = [\n",
    "    rnd.randint(1, 6) for _ in range(20)\n",
    "]  # convention: underscore _ when not using the variable in the loop\n",
    "\n",
    "print(f\"{dices = }\")\n",
    "\n",
    "unique_dices = set(dices)\n",
    "print(f\"{unique_dices = }\")"
   ]
  },
  {
   "cell_type": "code",
   "execution_count": 91,
   "metadata": {},
   "outputs": [
    {
     "ename": "TypeError",
     "evalue": "'set' object is not subscriptable",
     "output_type": "error",
     "traceback": [
      "\u001b[0;31m---------------------------------------------------------------------------\u001b[0m",
      "\u001b[0;31mTypeError\u001b[0m                                 Traceback (most recent call last)",
      "\u001b[1;32m/Users/kokchungiang/Documents/AIgineer/AI-part-1-handelsakademin/lecture-notes/1. python-summary/Lec1.0-fundamentals.ipynb Cell 23\u001b[0m line \u001b[0;36m2\n\u001b[1;32m      <a href='vscode-notebook-cell:/Users/kokchungiang/Documents/AIgineer/AI-part-1-handelsakademin/lecture-notes/1.%20python-summary/Lec1.0-fundamentals.ipynb#X51sZmlsZQ%3D%3D?line=0'>1</a>\u001b[0m \u001b[39m# set doesn't have any order, and can't be accessed using bracket notation\u001b[39;00m\n\u001b[0;32m----> <a href='vscode-notebook-cell:/Users/kokchungiang/Documents/AIgineer/AI-part-1-handelsakademin/lecture-notes/1.%20python-summary/Lec1.0-fundamentals.ipynb#X51sZmlsZQ%3D%3D?line=1'>2</a>\u001b[0m unique_dices[\u001b[39m1\u001b[39;49m]\n",
      "\u001b[0;31mTypeError\u001b[0m: 'set' object is not subscriptable"
     ]
    }
   ],
   "source": [
    "# set doesn't have any order, and can't be accessed using bracket notation\n",
    "unique_dices[1]"
   ]
  },
  {
   "cell_type": "markdown",
   "metadata": {},
   "source": [
    "**set logic**\n"
   ]
  },
  {
   "cell_type": "code",
   "execution_count": 110,
   "metadata": {},
   "outputs": [
    {
     "name": "stdout",
     "output_type": "stream",
     "text": [
      "unique_dices = {1, 2, 3, 4, 5, 6}\n",
      "set2 = {1, 10, 3, 15}\n",
      "\n",
      "unique_dices.union(set2) = {1, 2, 3, 4, 5, 6, 10, 15}\n",
      "unique_dices | set2 = {1, 2, 3, 4, 5, 6, 10, 15}\n",
      "\n",
      "unique_dices.intersection(set2) = {1, 3}\n",
      "unique_dices & set2 = {1, 3}\n",
      "\n",
      "unique_dices.difference(set2) = {2, 4, 5, 6}\n",
      "unique_dices - set2 = {2, 4, 5, 6}\n",
      "\n",
      "unique_dices.issubset(set2) = False\n",
      "set3.issubset(unique_dices) = True\n"
     ]
    }
   ],
   "source": [
    "set2 = {1, 3, 10, 15}\n",
    "\n",
    "print(f\"{unique_dices = }\")\n",
    "print(f\"{set2 = }\\n\")\n",
    "\n",
    "print(f\"{unique_dices.union(set2) = }\")\n",
    "print(f\"{unique_dices | set2 = }\\n\")  # union\n",
    "\n",
    "print(f\"{unique_dices.intersection(set2) = }\")\n",
    "print(f\"{unique_dices & set2 = }\\n\")\n",
    "\n",
    "print(f\"{unique_dices.difference(set2) = }\")\n",
    "print(f\"{unique_dices - set2 = }\\n\")\n",
    "\n",
    "set3 = {1, 2}\n",
    "print(f\"{unique_dices.issubset(set2) = }\")\n",
    "print(f\"{set3.issubset(unique_dices) = }\")"
   ]
  },
  {
   "cell_type": "markdown",
   "metadata": {},
   "source": [
    "<div style=\"max-width:66ch;\">\n",
    "\n",
    "---\n",
    "\n",
    "#### Dictionary - two different syntaxes\n",
    "\n",
    "The two different syntaxes to create dictionary in Python are\n",
    "\n",
    "- using the dict keyword\n",
    "- using bracket syntax\n",
    "\n",
    "</div>"
   ]
  },
  {
   "cell_type": "code",
   "execution_count": 12,
   "metadata": {},
   "outputs": [
    {
     "name": "stdout",
     "output_type": "stream",
     "text": [
      "both syntax are equal? True\n",
      "but they have different memory addresses\n"
     ]
    },
    {
     "data": {
      "text/plain": [
       "('0x108880f40', '0x1089dad00')"
      ]
     },
     "execution_count": 12,
     "metadata": {},
     "output_type": "execute_result"
    }
   ],
   "source": [
    "person_dict_syntax = dict(\n",
    "    name=\"Kokchun\", age=32.8, number_of_children=1, loves_math=True\n",
    ")\n",
    "person_dict_bracket_syntax = {\n",
    "    \"name\": \"Kokchun\",\n",
    "    \"age\": 32.8,\n",
    "    \"number_of_children\": 1,\n",
    "    \"loves_math\": True,\n",
    "}\n",
    "\n",
    "print(f\"both syntax are equal? {person_dict_syntax == person_dict_bracket_syntax}\")\n",
    "\n",
    "# note equal in the sense of containing same content, but not pointing to same object\n",
    "# they have different memory addresses, so changing one won't affect the other\n",
    "print(\"but they have different memory addresses\")\n",
    "hex(id(person_dict_bracket_syntax)), hex(id(person_dict_syntax))"
   ]
  },
  {
   "cell_type": "markdown",
   "metadata": {},
   "source": [
    "**Iterating over dictionary**\n"
   ]
  },
  {
   "cell_type": "code",
   "execution_count": 71,
   "metadata": {},
   "outputs": [
    {
     "name": "stdout",
     "output_type": "stream",
     "text": [
      "name\n",
      "age\n",
      "number_of_children\n",
      "loves_math\n"
     ]
    }
   ],
   "source": [
    "for key in person_dict_syntax:\n",
    "    print(key)"
   ]
  },
  {
   "cell_type": "code",
   "execution_count": 78,
   "metadata": {},
   "outputs": [
    {
     "name": "stdout",
     "output_type": "stream",
     "text": [
      "key, value\n",
      "('name', 'Kokchun')\n",
      "('age', 32.8)\n",
      "('number_of_children', 1)\n",
      "('loves_math', True)\n"
     ]
    }
   ],
   "source": [
    "print(\"key, value\")\n",
    "for key, value in person_dict_syntax.items():\n",
    "    print(f\"{key, value}\")"
   ]
  },
  {
   "cell_type": "markdown",
   "metadata": {},
   "source": [
    "**Dictionary comprehension**\n"
   ]
  },
  {
   "cell_type": "code",
   "execution_count": 133,
   "metadata": {},
   "outputs": [
    {
     "data": {
      "text/plain": [
       "{'supervised learning': 'learns from labeled data.',\n",
       " 'unsupervised learning': 'finds patterns in unlabeled data.',\n",
       " 'feature engineering': 'enhances input features for models.',\n",
       " 'overfitting': 'model fits training data too closely.',\n",
       " 'cross-validation': 'evaluates model performance robustly.'}"
      ]
     },
     "execution_count": 133,
     "metadata": {},
     "output_type": "execute_result"
    }
   ],
   "source": [
    "ml_terms = [\n",
    "    \"Supervised Learning\",\n",
    "    \"Unsupervised Learning\",\n",
    "    \"Feature Engineering\",\n",
    "    \"Overfitting\",\n",
    "    \"Cross-Validation\"\n",
    "]\n",
    "\n",
    "\n",
    "ml_explanations = [\n",
    "    \"Learns from labeled data.\",\n",
    "    \"Finds patterns in unlabeled data.\",\n",
    "    \"Enhances input features for models.\",\n",
    "    \"Model fits training data too closely.\",\n",
    "    \"Evaluates model performance robustly.\"\n",
    "]\n",
    "\n",
    "glossary = {term.lower(): explanation.lower()  for term, explanation in zip(ml_terms, ml_explanations)}\n",
    "glossary"
   ]
  },
  {
   "cell_type": "markdown",
   "metadata": {},
   "source": [
    "<div style=\"max-width:66ch;\">\n",
    "\n",
    "#### Strings\n",
    "\n",
    "- important to understand how to manipulate strings as we will clean a lot of data in our work\n",
    "\n",
    "</div>"
   ]
  },
  {
   "cell_type": "code",
   "execution_count": 135,
   "metadata": {},
   "outputs": [
    {
     "name": "stdout",
     "output_type": "stream",
     "text": [
      "len(ml_term) = 23\n",
      "ml_term.strip() = 'sUperVised   Learning'\n",
      "ml_term.split() = ['sUperVised', 'Learning']\n",
      "\n",
      "cleaned data\n",
      "' '.join(ml_term.split()).lower() = 'supervised learning'\n"
     ]
    }
   ],
   "source": [
    "# oops weird formatting \n",
    "ml_term = \"sUperVised   Learning  \"\n",
    "\n",
    "print(f\"{len(ml_term) = }\")\n",
    "\n",
    "print(f\"{ml_term.strip() = }\")\n",
    "print(f\"{ml_term.split() = }\\n\")\n",
    "\n",
    "print(\"cleaned data\")\n",
    "print(f\"{' '.join(ml_term.split()).lower() = }\")"
   ]
  },
  {
   "cell_type": "markdown",
   "metadata": {},
   "source": [
    "**Strings as list of characters**"
   ]
  },
  {
   "cell_type": "code",
   "execution_count": 145,
   "metadata": {},
   "outputs": [
    {
     "name": "stdout",
     "output_type": "stream",
     "text": [
      "ml_term[0] = 'c'\n",
      "ml_term[:10] = 'clustering'\n",
      "ml_term[10:-1] = ' algorithm'\n"
     ]
    },
    {
     "data": {
      "text/plain": [
       "'regression algorithm'"
      ]
     },
     "execution_count": 145,
     "metadata": {},
     "output_type": "execute_result"
    }
   ],
   "source": [
    "ml_term = \"clustering algorithms\"\n",
    "\n",
    "print(f\"{ml_term[0] = }\")\n",
    "print(f\"{ml_term[:10] = }\")\n",
    "print(f\"{ml_term[10:-1] = }\")\n",
    "\n",
    "supervised_learning = [\"regression\", \"classifcation\"]\n",
    "unsupervised_learning = [\"clustering\"]\n",
    "\n"
   ]
  },
  {
   "cell_type": "markdown",
   "metadata": {},
   "source": [
    "<div style=\"max-width:66ch;\">\n",
    "\n",
    "**string operators**\n",
    "\n",
    "<table border=\"1\" style=\"text-transform: lowercase; display:inline-block; text-align:left;\">\n",
    "    <thead>\n",
    "        <tr style=\"background-color: #174A7E; color: white;\">\n",
    "            <th>Operator Name</th>\n",
    "            <th>Operator</th>\n",
    "            <th>Example</th>\n",
    "        </tr>\n",
    "    </thead>\n",
    "    <tbody>\n",
    "        <tr>\n",
    "            <td>Concatenation</td>\n",
    "            <td>+</td>\n",
    "            <td>\"Neural\" + \" Network\" = \"Neural Network\"</td>\n",
    "        </tr>\n",
    "        <tr>\n",
    "            <td>Repetition</td>\n",
    "            <td>*</td>\n",
    "            <td>\"ML\" * 3 = \"MLMLML\"</td>\n",
    "        </tr>\n",
    "        <tr>\n",
    "            <td>Indexing</td>\n",
    "            <td>[]</td>\n",
    "            <td>text = \"Regressor\"; text[0] = \"R\"</td>\n",
    "        </tr>\n",
    "        <tr>\n",
    "            <td>Slicing</td>\n",
    "            <td>:</td>\n",
    "            <td>text = \"Classifier\"; text[2:5] = \"ass\"</td>\n",
    "        </tr>\n",
    "        <tr>\n",
    "            <td>String Comparison</td>\n",
    "            <td>==, !=, etc.</td>\n",
    "            <td>\"Model\" == \"Model\" evaluates to <span style=\"text-transform: capitalize;\">True</span> </td>\n",
    "        </tr>\n",
    "        <tr>\n",
    "            <td>Membership</td>\n",
    "            <td>in</td>\n",
    "            <td>\"Loss\" in \"Mean Squared Loss\"</td>\n",
    "        </tr>\n",
    "    </tbody>\n",
    "</table>\n",
    "\n",
    "</div>"
   ]
  },
  {
   "cell_type": "code",
   "execution_count": 156,
   "metadata": {},
   "outputs": [
    {
     "name": "stdout",
     "output_type": "stream",
     "text": [
      "supervised_learning[0] + ml_term[10:-1] = 'regression algorithm'\n",
      "'reinforcement learning' + 'learning' = 'reinforcement learninglearning'\n",
      "'5' + '5' = '55'\n",
      "'feature '*5 = 'feature feature feature feature feature '\n"
     ]
    }
   ],
   "source": [
    "# concatenate strings with + operator\n",
    "print(f\"{supervised_learning[0] + ml_term[10:-1] = }\")\n",
    "print(f\"{'reinforcement learning' + 'learning' = }\")\n",
    "print(f\"{'5' + '5' = }\")\n",
    "\n",
    "# repöeat strings with * operator\n",
    "print(f\"{'feature '*5 = }\")"
   ]
  },
  {
   "cell_type": "markdown",
   "metadata": {},
   "source": [
    "<div style=\"max-width:66ch;\">\n",
    "\n",
    "---\n",
    "## if-statement\n",
    "\n",
    "- conditional control structure\n",
    "- execute block of code if condition fulfilled\n",
    "\n",
    "Some concepts of if-statements have been covered already throughout other concepts, hence this section will be shorter and try cover parts that are new\n",
    "\n",
    "</div>\n",
    "  "
   ]
  },
  {
   "cell_type": "code",
   "execution_count": 158,
   "metadata": {},
   "outputs": [
    {
     "name": "stdout",
     "output_type": "stream",
     "text": [
      "positive prediction for the disease with probability 0.8\n"
     ]
    }
   ],
   "source": [
    "predicted_probability = 0.8\n",
    "\n",
    "# note however that you probably shouldn't choose 0.5 as threshold for this case\n",
    "# try figure out why\n",
    "if predicted_probability > 0.5:\n",
    "    # convention for prediction variable is y_pred\n",
    "    # 1 for positive and 0 for negative\n",
    "    y_pred = 1\n",
    "else:\n",
    "    y_pred = 0\n",
    "\n",
    "# one line if-else statement\n",
    "prediction = \"positive\" if y_pred else \"negative\"\n",
    "\n",
    "print(\n",
    "    f\"{prediction} prediction for the disease with probability {predicted_probability}\"\n",
    ")"
   ]
  },
  {
   "cell_type": "code",
   "execution_count": 162,
   "metadata": {},
   "outputs": [
    {
     "name": "stdout",
     "output_type": "stream",
     "text": [
      "the accuracy of your model is 0.5 and the performance is bad\n"
     ]
    }
   ],
   "source": [
    "accuracy = float(input(\"give your models accuracy\"))\n",
    "\n",
    "if accuracy > .9:\n",
    "    model_performanace = \"Good\"\n",
    "elif accuracy > .7:\n",
    "    model_performanace = \"Moderate\"\n",
    "else:\n",
    "    model_performanace = \"Bad\"\n",
    "\n",
    "print(f\"the accuracy of your model is {accuracy} and the performance is {model_performanace.lower()}\")"
   ]
  },
  {
   "cell_type": "markdown",
   "metadata": {},
   "source": [
    "<div style=\"max-width:66ch;\">\n",
    "\n",
    "---\n",
    "## while statement \n",
    "\n",
    "- iterative control structure\n",
    "- iteratively repeat execution as long as specified condition remains True\n",
    "- can be seen as an \"if-loop\"\n",
    "\n",
    "### Example - oil leakage\n",
    "\n",
    "There is an oil leakage causing the bird population in an island to 1/2 in each year. From start there were 80000 birds, how many years does it take for it to have 1/10 remaining?\n",
    "\n",
    "</div>"
   ]
  },
  {
   "cell_type": "code",
   "execution_count": 1,
   "metadata": {},
   "outputs": [
    {
     "name": "stdout",
     "output_type": "stream",
     "text": [
      "Year 0 there were 80000 birds\n",
      "Year 1 there were 40000 birds\n",
      "Year 2 there were 20000 birds\n",
      "Year 3 there were 10000 birds\n",
      "It takes 4 years for the birds to have 1/10 remaining\n"
     ]
    }
   ],
   "source": [
    "birds = 80000\n",
    "year = 0\n",
    "\n",
    "while birds > 8000:\n",
    "    print(f\"Year {year} there were {birds:.0f} birds\") \n",
    "    birds /= 2 # divide by half \n",
    "    year += 1\n",
    "\n",
    "print(f\"It takes {year} years for the birds to have 1/10 remaining\")"
   ]
  },
  {
   "cell_type": "markdown",
   "metadata": {},
   "source": [
    "<div style=\"max-width:66ch;\">\n",
    "\n",
    "---\n",
    "## for statement \n",
    "\n",
    "- iterative control structure\n",
    "- iterates over a sequence (list, tuple, string, range, ...)\n",
    "- typically used when you know number of iterations beforehand\n",
    "\n",
    "</div>"
   ]
  },
  {
   "cell_type": "code",
   "execution_count": 3,
   "metadata": {},
   "outputs": [
    {
     "name": "stdout",
     "output_type": "stream",
     "text": [
      "K-Means\n",
      "PCA\n",
      "GMM\n"
     ]
    }
   ],
   "source": [
    "unsupervised_abbreviations = [\n",
    "    \"K-Means\",\n",
    "    \"PCA\",\n",
    "    \"GMM\",\n",
    "]\n",
    "\n",
    "unsupervised_algorithms = [\n",
    "    \"K-Means Clustering\",\n",
    "    \"Principal Component Analysis\",\n",
    "    \"Gaussian Mixture Model\",\n",
    "]\n",
    "\n",
    "for abbreviation in unsupervised_abbreviations:\n",
    "    print(abbreviation)"
   ]
  },
  {
   "cell_type": "code",
   "execution_count": 8,
   "metadata": {},
   "outputs": [
    {
     "name": "stdout",
     "output_type": "stream",
     "text": [
      "K-Means :  K-Means Clustering\n",
      "PCA :  Principal Component Analysis\n",
      "GMM :  Gaussian Mixture Model\n"
     ]
    }
   ],
   "source": [
    "for abbreviation, algorithm in zip(unsupervised_abbreviations, unsupervised_algorithms):\n",
    "    print(abbreviation, \": \",algorithm)"
   ]
  },
  {
   "cell_type": "code",
   "execution_count": 7,
   "metadata": {},
   "outputs": [
    {
     "data": {
      "text/plain": [
       "[{'SVM': 'Support Vector Machine'},\n",
       " {'DT': 'Decision Tree'},\n",
       " {'kNN': 'k-Nearest Neighbors'}]"
      ]
     },
     "execution_count": 7,
     "metadata": {},
     "output_type": "execute_result"
    }
   ],
   "source": [
    "supervised_algorithms = [\n",
    "    \"Support Vector Machine\",\n",
    "    \"Decision Tree\",\n",
    "    \"k-Nearest Neighbors\"\n",
    "]\n",
    "\n",
    "supervised_abbreviations = [\n",
    "    \"SVM\",\n",
    "    \"DT\",\n",
    "    \"kNN\"\n",
    "]\n",
    "\n",
    "# this structure is useful later when we create dropdown lists in plotly dash\n",
    "[{abbreviation: algorithm} for abbreviation, algorithm in zip(supervised_abbreviations, supervised_algorithms)]"
   ]
  },
  {
   "cell_type": "code",
   "execution_count": 12,
   "metadata": {},
   "outputs": [
    {
     "name": "stdout",
     "output_type": "stream",
     "text": [
      "algorithm 0: Support Vector Machine\n",
      "algorithm 1: Decision Tree\n",
      "algorithm 2: k-Nearest Neighbors\n",
      "\n",
      "algorithm 0: Support Vector Machine\n",
      "algorithm 1: Decision Tree\n",
      "algorithm 2: k-Nearest Neighbors\n"
     ]
    }
   ],
   "source": [
    "# don't do this, this is not pythonic\n",
    "for i in range(len(supervised_algorithms)):\n",
    "    print(f\"algorithm {i}: {supervised_algorithms[i]}\")\n",
    "\n",
    "print()\n",
    "\n",
    "# this is pythonic\n",
    "for i, algorithm in enumerate(supervised_algorithms): \n",
    "    print(f\"algorithm {i}: {algorithm}\")"
   ]
  },
  {
   "cell_type": "markdown",
   "metadata": {},
   "source": [
    "<div style=\"max-width:66ch;\">\n",
    "\n",
    "---\n",
    "## Summary\n",
    "\n",
    "In this lecture note we have covered the most fundamental data types in Python, both how to create and manipulate them in useful ways. Also some control structures (if, while, for) have been covered in some extent.\n",
    "\n",
    "---\n",
    "\n",
    "</div>"
   ]
  },
  {
   "cell_type": "markdown",
   "metadata": {},
   "source": [
    "<div style=\"background-color: #FFF; color: #212121; border-radius: 1px; width:22ch; box-shadow: rgba(0, 0, 0, 0.16) 0px 1px 4px; display: flex; justify-content: center; align-items: center;\">\n",
    "<div style=\"padding: 1.5em 0; width: 70%;\">\n",
    "    <h2 style=\"font-size: 1.2rem;\">Kokchun Giang</h2>\n",
    "    <a href=\"https://www.linkedin.com/in/kokchungiang/\" target=\"_blank\" style=\"display: flex; align-items: center; gap: .4em; color:#0A66C2;\">\n",
    "        <img src=\"https://content.linkedin.com/content/dam/me/business/en-us/amp/brand-site/v2/bg/LI-Bug.svg.original.svg\" width=\"20\"> \n",
    "        LinkedIn profile\n",
    "    </a>\n",
    "    <a href=\"https://github.com/kokchun/Portfolio-Kokchun-Giang\" target=\"_blank\" style=\"display: flex; align-items: center; gap: .4em; margin: 1em 0; color:#0A66C2;\">\n",
    "        <img src=\"https://github.githubassets.com/images/modules/logos_page/GitHub-Mark.png\" width=\"20\"> \n",
    "        Github portfolio\n",
    "    </a>\n",
    "    <span>AIgineer AB</span>\n",
    "<div>\n",
    "</div>\n"
   ]
  }
 ],
 "metadata": {
  "kernelspec": {
   "display_name": "ai-part-1-handelsakademin-5RQamIMR-py3.9",
   "language": "python",
   "name": "python3"
  },
  "language_info": {
   "codemirror_mode": {
    "name": "ipython",
    "version": 3
   },
   "file_extension": ".py",
   "mimetype": "text/x-python",
   "name": "python",
   "nbconvert_exporter": "python",
   "pygments_lexer": "ipython3",
   "version": "3.9.9"
  },
  "orig_nbformat": 4
 },
 "nbformat": 4,
 "nbformat_minor": 2
}
