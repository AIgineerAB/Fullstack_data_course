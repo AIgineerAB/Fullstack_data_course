{
 "cells": [
  {
   "cell_type": "markdown",
   "metadata": {},
   "source": [
    "<div style=\"max-width:66ch;\">\n",
    "\n",
    "# Lecture notes - Python summary part 2\n",
    "\n",
    "This is a lecture note for **python summary**. It contains\n",
    "\n",
    "- error handling\n",
    "- file handling\n",
    "- functions\n",
    "- matplotlib\n",
    "- numpy\n",
    "\n",
    "Note that this is an introduction to the subject, you are encouraged to read further. We will only cover enough fundamental parts that will be useful for this course and the next. \n",
    "\n",
    "---\n",
    "\n",
    "</div>\n"
   ]
  },
  {
   "cell_type": "markdown",
   "metadata": {},
   "source": [
    "<div style=\"max-width:66ch;\">\n",
    "\n",
    "## Error handling \n",
    "\n",
    "Process of managing and responding to exceptions or errors that can occur during the execution of a program. Exceptions are events that disrupt the normal flow of a program and can be caused by various factors, such as invalid inputs, file not found, or division by zero.\n",
    "\n",
    "There are three types of errors in python:\n",
    "\n",
    "<table style=\"display:inline-block; text-align:left;\">\n",
    "  <tr style=\"background-color: #174A7E; color: white;\">\n",
    "    <th>Error type</th>\n",
    "    <th>Short summary</th>\n",
    "    <th>Short example</th>\n",
    "  </tr>\n",
    "  <tr>\n",
    "    <td>Syntax errors</td>\n",
    "    <td>Errors in code syntax; prevent program execution.</td>\n",
    "    <td><code>if x = 5:</code> (SyntaxError: invalid syntax)</td>\n",
    "  </tr>\n",
    "  <tr>\n",
    "    <td>Runtime errors (Exceptions)</td>\n",
    "    <td>Errors during program execution due to unforeseen circumstances.</td>\n",
    "    <td><code>10 / 0</code> (ZeroDivisionError: division by zero)</td>\n",
    "  </tr>\n",
    "  <tr>\n",
    "    <td>Semantic errors (Logical errors)</td>\n",
    "    <td>Errors in program logic or implementation; code runs but produces incorrect results.</td>\n",
    "    <td>Incorrect calculation logic in a function.</td>\n",
    "  </tr>\n",
    "</table>\n",
    "\n",
    "</div>"
   ]
  },
  {
   "cell_type": "markdown",
   "metadata": {},
   "source": [
    "**Syntax error**\n",
    "\n",
    "- easy to fix "
   ]
  },
  {
   "cell_type": "code",
   "execution_count": 2,
   "metadata": {},
   "outputs": [
    {
     "ename": "NameError",
     "evalue": "name 'prin' is not defined",
     "output_type": "error",
     "traceback": [
      "\u001b[0;31m---------------------------------------------------------------------------\u001b[0m",
      "\u001b[0;31mNameError\u001b[0m                                 Traceback (most recent call last)",
      "\u001b[1;32m/Users/kokchungiang/Documents/AIgineer/AI-part-1-handelsakademin/lecture-notes/1. python-summary/Lec1.1-fundamentals.ipynb Cell 4\u001b[0m line \u001b[0;36m1\n\u001b[0;32m----> <a href='vscode-notebook-cell:/Users/kokchungiang/Documents/AIgineer/AI-part-1-handelsakademin/lecture-notes/1.%20python-summary/Lec1.1-fundamentals.ipynb#Y103sZmlsZQ%3D%3D?line=0'>1</a>\u001b[0m prin(\u001b[39m\"\u001b[39m\u001b[39mlinear regression is a supervised learning algorithm\u001b[39m\u001b[39m\"\u001b[39m)\n",
      "\u001b[0;31mNameError\u001b[0m: name 'prin' is not defined"
     ]
    }
   ],
   "source": [
    "prin(\"linear regression is a supervised learning algorithm\")"
   ]
  },
  {
   "cell_type": "markdown",
   "metadata": {},
   "source": [
    "**Runtime error**\n",
    "\n",
    "- easy to fix"
   ]
  },
  {
   "cell_type": "code",
   "execution_count": 3,
   "metadata": {},
   "outputs": [
    {
     "ename": "IndexError",
     "evalue": "list index out of range",
     "output_type": "error",
     "traceback": [
      "\u001b[0;31m---------------------------------------------------------------------------\u001b[0m",
      "\u001b[0;31mIndexError\u001b[0m                                Traceback (most recent call last)",
      "\u001b[1;32m/Users/kokchungiang/Documents/AIgineer/AI-part-1-handelsakademin/lecture-notes/1. python-summary/Lec1.1-fundamentals.ipynb Cell 7\u001b[0m line \u001b[0;36m2\n\u001b[1;32m      <a href='vscode-notebook-cell:/Users/kokchungiang/Documents/AIgineer/AI-part-1-handelsakademin/lecture-notes/1.%20python-summary/Lec1.1-fundamentals.ipynb#Y104sZmlsZQ%3D%3D?line=0'>1</a>\u001b[0m numbers \u001b[39m=\u001b[39m \u001b[39mlist\u001b[39m(\u001b[39mrange\u001b[39m(\u001b[39m5\u001b[39m))\n\u001b[0;32m----> <a href='vscode-notebook-cell:/Users/kokchungiang/Documents/AIgineer/AI-part-1-handelsakademin/lecture-notes/1.%20python-summary/Lec1.1-fundamentals.ipynb#Y104sZmlsZQ%3D%3D?line=1'>2</a>\u001b[0m numbers[\u001b[39m5\u001b[39;49m]\n",
      "\u001b[0;31mIndexError\u001b[0m: list index out of range"
     ]
    }
   ],
   "source": [
    "numbers = list(range(5))\n",
    "numbers[5]"
   ]
  },
  {
   "cell_type": "markdown",
   "metadata": {},
   "source": [
    "**Logical error**\n",
    "\n",
    "- harder to find as the code runs\n",
    "- some extensive debugging could be involved here"
   ]
  },
  {
   "cell_type": "code",
   "execution_count": 6,
   "metadata": {},
   "outputs": [
    {
     "name": "stdout",
     "output_type": "stream",
     "text": [
      "area_circle = 15.71\n"
     ]
    }
   ],
   "source": [
    "import numpy as np \n",
    "\n",
    "radius = 5\n",
    "\n",
    "# this is circumference and not the area\n",
    "area_circle = np.pi*radius\n",
    "print(f\"{area_circle = :.2f}\")"
   ]
  },
  {
   "cell_type": "markdown",
   "metadata": {},
   "source": [
    "**try-except**"
   ]
  },
  {
   "cell_type": "code",
   "execution_count": 3,
   "metadata": {},
   "outputs": [
    {
     "name": "stdout",
     "output_type": "stream",
     "text": [
      "Du är 32.0 år gammal\n"
     ]
    }
   ],
   "source": [
    "# want user to try again \n",
    "while True: \n",
    "    try:\n",
    "        age = float(input(\"Ange din ålder\"))\n",
    "        if not 0<=age<=125:\n",
    "            raise ValueError(\"Åldern måste vara mellan 0 and 125\")\n",
    "        print(f\"Du är {age} år gammal\")\n",
    "        break # breaks out of while loop if nothing went wrong\n",
    "    except ValueError as err:\n",
    "        print(err)    "
   ]
  },
  {
   "cell_type": "markdown",
   "metadata": {},
   "source": [
    "<div style=\"max-width:66ch;\">\n",
    "\n",
    "---\n",
    "## Functions\n",
    "\n",
    "A function is a reusable block of code that performs a specific task or a set of tasks\n",
    "- break down complex program into smaller parts\n",
    "- organize code\n",
    "- make modular code\n",
    "\n",
    "```\n",
    "def name(param1, param2, ...): \n",
    "    statements\n",
    "    ...\n",
    "\n",
    "name(arg1, arg2, ...)\n",
    "```\n",
    "\n",
    "</div>"
   ]
  },
  {
   "cell_type": "code",
   "execution_count": 26,
   "metadata": {},
   "outputs": [
    {
     "name": "stdout",
     "output_type": "stream",
     "text": [
      "9\n",
      "[0, 1, 4, 9, 16, 25, 36, 49, 64, 81]\n"
     ]
    }
   ],
   "source": [
    "def squarer(x): # input parameter x \n",
    "    return x**2 # returns x**2\n",
    "\n",
    "print(squarer(3))\n",
    "squares = [squarer(x) for x in range(10)]\n",
    "print(squares)"
   ]
  },
  {
   "cell_type": "markdown",
   "metadata": {},
   "source": [
    "**Default value**"
   ]
  },
  {
   "cell_type": "code",
   "execution_count": 31,
   "metadata": {},
   "outputs": [
    {
     "name": "stdout",
     "output_type": "stream",
     "text": [
      "x o o o o \n",
      "x x o o o \n",
      "x x x o o \n",
      "x x x x o \n",
      "x x x x x \n",
      "x o \n",
      "x x \n",
      "x o o o \n",
      "x x o o \n",
      "x x x o \n",
      "x x x x \n"
     ]
    }
   ],
   "source": [
    "# number_rows = 5 is a default value\n",
    "def draw_ascii_pattern(number_rows=5):\n",
    "    for i in range(1, number_rows + 1):\n",
    "        print(i * \"x \" + (number_rows - i) * \"o \")\n",
    "\n",
    "    # returns None\n",
    "\n",
    "draw_ascii_pattern()\n",
    "draw_ascii_pattern(2)\n",
    "draw_ascii_pattern(4)"
   ]
  },
  {
   "cell_type": "code",
   "execution_count": 32,
   "metadata": {},
   "outputs": [
    {
     "data": {
      "text/plain": [
       "2"
      ]
     },
     "execution_count": 32,
     "metadata": {},
     "output_type": "execute_result"
    }
   ],
   "source": [
    "def smallest(number1, number2):\n",
    "    if number1 > number2:\n",
    "        return number2\n",
    "    return number1\n",
    "    \n",
    "smallest(7,2)"
   ]
  },
  {
   "cell_type": "markdown",
   "metadata": {},
   "source": [
    "**Arbitrary arguments, \\*args**"
   ]
  },
  {
   "cell_type": "code",
   "execution_count": 34,
   "metadata": {},
   "outputs": [
    {
     "name": "stdout",
     "output_type": "stream",
     "text": [
      "2.5\n"
     ]
    }
   ],
   "source": [
    "def my_mean(*args):\n",
    "    sum_ = 0 # use sum_ to not override python built-in sum() function \n",
    "    for arg in args:\n",
    "        sum_ += arg\n",
    "    return sum_/len(args)\n",
    "\n",
    "print(my_mean(1,2,3,4))"
   ]
  },
  {
   "cell_type": "markdown",
   "metadata": {},
   "source": [
    "**Keyword arguments, \\*kwargs**"
   ]
  },
  {
   "cell_type": "code",
   "execution_count": 51,
   "metadata": {},
   "outputs": [
    {
     "name": "stdout",
     "output_type": "stream",
     "text": [
      "[[1 4]\n",
      " [3 1]]\n",
      "\n",
      "can specify second keyword argument as long as first has default value\n",
      "[[6 2 1]]\n",
      "\n",
      "different orders\n",
      "[[1 5 3]\n",
      " [2 4 6]\n",
      " [4 3 6]]\n"
     ]
    }
   ],
   "source": [
    "import numpy as np \n",
    "\n",
    "def simulate_dices(throws = 1, dices = 2):\n",
    "    print(np.random.randint(1,7, (throws, dices)))\n",
    "\n",
    "\n",
    "simulate_dices(throws = 2)\n",
    "\n",
    "print(\"\\ncan specify second keyword argument as long as first has default value\")\n",
    "simulate_dices(dices = 3)\n",
    "\n",
    "print(\"\\ndifferent orders\")\n",
    "simulate_dices(dices=3, throws=3)"
   ]
  },
  {
   "cell_type": "markdown",
   "metadata": {},
   "source": [
    "**Unpack arguments**"
   ]
  },
  {
   "cell_type": "code",
   "execution_count": 54,
   "metadata": {},
   "outputs": [
    {
     "name": "stdout",
     "output_type": "stream",
     "text": [
      "[[6 1 3]\n",
      " [1 5 1]]\n",
      "\n",
      "[[5 4 5]\n",
      " [6 1 2]]\n"
     ]
    }
   ],
   "source": [
    "options_list = [2, 3]\n",
    "options_dict = dict(dices=3, throws = 2)\n",
    "\n",
    "simulate_dices(*options_list)\n",
    "\n",
    "print()\n",
    "simulate_dices(**options_dict)  \n",
    "\n",
    "\n",
    "\n"
   ]
  },
  {
   "cell_type": "markdown",
   "metadata": {},
   "source": [
    "**Lambda functions**\n",
    "\n",
    "- anonymous functions\n",
    "- can take many arguments but have one expression\n",
    "- can be used inside another function"
   ]
  },
  {
   "cell_type": "code",
   "execution_count": 55,
   "metadata": {},
   "outputs": [
    {
     "data": {
      "text/plain": [
       "27"
      ]
     },
     "execution_count": 55,
     "metadata": {},
     "output_type": "execute_result"
    }
   ],
   "source": [
    "cuber = lambda x: x**3\n",
    "cuber(3)"
   ]
  },
  {
   "cell_type": "code",
   "execution_count": 58,
   "metadata": {},
   "outputs": [
    {
     "name": "stdout",
     "output_type": "stream",
     "text": [
      "David: 95\n",
      "Bob: 92\n",
      "Alice: 85\n",
      "Charlie: 78\n"
     ]
    }
   ],
   "source": [
    "students = [(\"Alice\", 85), (\"Bob\", 92), (\"Charlie\", 78), (\"David\", 95)]\n",
    "\n",
    "# sort students by their scores in descending order\n",
    "sorted_students = sorted(students, key=lambda student: student[1], reverse=True)\n",
    "\n",
    "for student in sorted_students:\n",
    "    print(f\"{student[0]}: {student[1]}\")\n"
   ]
  },
  {
   "cell_type": "markdown",
   "metadata": {},
   "source": [
    "<div style=\"max-width:66ch;\">\n",
    "\n",
    "---\n",
    "## Matplotlib\n",
    "\n",
    "For creating visualizations in python. \n",
    "\n",
    "> There will be much more matplotlib in the future, so just an introduction on how to use it is covered here\n",
    "\n",
    "</div>"
   ]
  },
  {
   "cell_type": "markdown",
   "metadata": {},
   "source": [
    "**Plotting (x,y) sequences**\n",
    "\n",
    "- here we use tuple for x and list of y"
   ]
  },
  {
   "cell_type": "code",
   "execution_count": 95,
   "metadata": {},
   "outputs": [
    {
     "data": {
      "text/plain": [
       "<matplotlib.legend.Legend at 0x11816d460>"
      ]
     },
     "execution_count": 95,
     "metadata": {},
     "output_type": "execute_result"
    },
    {
     "data": {
      "image/png": "[encoded data removed]",
      "text/plain": [
       "<Figure size 640x480 with 1 Axes>"
      ]
     },
     "metadata": {},
     "output_type": "display_data"
    }
   ],
   "source": [
    "import matplotlib.pyplot as plt\n",
    "\n",
    "# showing one lambda and one def\n",
    "f = lambda x: 3 * x - 2\n",
    "\n",
    "\n",
    "def g(x):\n",
    "    return x**2 - 2\n",
    "\n",
    "\n",
    "x = tuple(range(-5, 5))\n",
    "\n",
    "# note that we need to use list comprehension to generate y's\n",
    "y = [f(i) for i in x]\n",
    "y2 = [g(i) for i in x]\n",
    "\n",
    "# matlab style of plotting, an OOP approach will be shown later\n",
    "plt.plot(x, y)\n",
    "plt.plot(x, y2)\n",
    "plt.title(\"plotting 2 functions\")\n",
    "plt.xlabel(\"$x$\") # this is LaTeX for typesetting math\n",
    "plt.ylabel(\"$y$\")\n",
    "plt.legend([\"$f(x)=3x-2$\", \"$g(x) = x^2-2$\"])\n",
    "\n",
    "# we see that g(x) is jagged, and that's because we don't have enough \n",
    "# (x,y) values to make it appear smooth"
   ]
  },
  {
   "cell_type": "markdown",
   "metadata": {},
   "source": [
    "**Plotting using numpy**"
   ]
  },
  {
   "cell_type": "code",
   "execution_count": 102,
   "metadata": {},
   "outputs": [
    {
     "name": "stdout",
     "output_type": "stream",
     "text": [
      "[-3.14159265 -3.01336438 -2.88513611 -2.75690784 -2.62867957 -2.5004513\n",
      " -2.37222302 -2.24399475 -2.11576648 -1.98753821 -1.85930994 -1.73108167\n",
      " -1.60285339 -1.47462512 -1.34639685 -1.21816858 -1.08994031 -0.96171204\n",
      " -0.83348377 -0.70525549 -0.57702722 -0.44879895 -0.32057068 -0.19234241\n",
      " -0.06411414  0.06411414  0.19234241  0.32057068  0.44879895  0.57702722\n",
      "  0.70525549  0.83348377  0.96171204  1.08994031  1.21816858  1.34639685\n",
      "  1.47462512  1.60285339  1.73108167  1.85930994  1.98753821  2.11576648\n",
      "  2.24399475  2.37222302  2.5004513   2.62867957  2.75690784  2.88513611\n",
      "  3.01336438  3.14159265]\n"
     ]
    },
    {
     "data": {
      "image/png": "[encoded data removed]",
      "text/plain": [
       "<Figure size 640x480 with 1 Axes>"
      ]
     },
     "metadata": {},
     "output_type": "display_data"
    },
    {
     "data": {
      "text/plain": [
       "<Figure size 640x480 with 0 Axes>"
      ]
     },
     "metadata": {},
     "output_type": "display_data"
    }
   ],
   "source": [
    "import numpy as np\n",
    "\n",
    "x = np.linspace(-np.pi, np.pi)\n",
    "\n",
    "# gives 50 evenly spaced values between -pi and pi\n",
    "print(x)\n",
    "f = lambda x: x**2 + 1\n",
    "g = lambda x: np.sin(x) + 5\n",
    "\n",
    "# OOP approach\n",
    "ax, fig = plt.axes(), plt.figure()\n",
    "\n",
    "ax.plot(x, f(x), label=\"$f(x) = x^2+1$\")\n",
    "ax.plot(x, g(x), label=\"$g(x) = \\sin{x} + 5$\")\n",
    "ax.set(title=\"Two graphs\", xlabel=\"$x$\", ylabel=\"$y$\")\n",
    "ax.legend();"
   ]
  },
  {
   "cell_type": "markdown",
   "metadata": {},
   "source": [
    "**More on numpy**"
   ]
  },
  {
   "cell_type": "code",
   "execution_count": 104,
   "metadata": {},
   "outputs": [
    {
     "data": {
      "text/plain": [
       "array([[0., 0., 0.],\n",
       "       [0., 0., 0.]])"
      ]
     },
     "execution_count": 104,
     "metadata": {},
     "output_type": "execute_result"
    }
   ],
   "source": [
    "np.zeros((2,3))"
   ]
  },
  {
   "cell_type": "code",
   "execution_count": 103,
   "metadata": {},
   "outputs": [
    {
     "name": "stdout",
     "output_type": "stream",
     "text": [
      "vector1=array([2, 5, 1])\n",
      "vector1*2=array([ 4, 10,  2])\n",
      "[2, 5, 1, 2, 5, 1]\n",
      "vector2=array([1., 1., 1.])\n",
      "vector1+vector2=array([3., 6., 2.])\n",
      "vector2=array([ 1.,  1., 99.])\n",
      "vector1=array([1, 2, 5])\n",
      "vector1.sum()=8\n",
      "vector1.mean()=2.67\n"
     ]
    }
   ],
   "source": [
    "\n",
    "# creating an array from list, it is also a data structure for representing a mathematical vector\n",
    "vector1 = np.array([2,5,1])\n",
    "print(f\"{vector1=}\")\n",
    "# the multiplication performs element-wise \n",
    "print(f\"{vector1*2=}\") \n",
    "# note the difference in list\n",
    "print([2,5,1]*2)\n",
    "\n",
    "vector2 = np.ones(3)\n",
    "print(f\"{vector2=}\")\n",
    "print(f\"{vector1+vector2=}\")\n",
    "vector2[-1]=99\n",
    "print(f\"{vector2=}\")\n",
    "\n",
    "# sort\n",
    "vector1.sort()\n",
    "print(f\"{vector1=}\")\n",
    "\n",
    "# mathematical methods\n",
    "print(f\"{vector1.sum()=}\")\n",
    "print(f\"{vector1.mean()=:.2f}\")"
   ]
  },
  {
   "cell_type": "markdown",
   "metadata": {},
   "source": [
    "<div style=\"max-width: 66ch; \">\n",
    "\n",
    "**Performance**\n",
    "\n",
    "\n",
    "The typing in Python is dynamic which means that we also can create heterogenous lists, that is lists with different types. However this creates an overhead since each item needs to have information about its type, which means that each element in the list is an object. The information is redundant in case of all elements are one data type.\n",
    "\n",
    "- loops in Python are very slow due to its dynamic typing, it can't efficiently be compiled to machine code\n",
    "- numpy arrays have one fixed data type for each element\n",
    "    - less flexibility\n",
    "    - higher performance\n",
    "- don't loop through numpy arrays as loops are very slow\n",
    "- use numpy's methods (vectorization), which under the hood is implemented with ufuncs that operates on an array elementwise\n",
    "- these ufuncs gives the array processing to C, which is much faster than Python loops\n",
    "</div>"
   ]
  },
  {
   "cell_type": "code",
   "execution_count": 105,
   "metadata": {},
   "outputs": [
    {
     "name": "stdout",
     "output_type": "stream",
     "text": [
      "3.73 s ± 138 ms per loop (mean ± std. dev. of 7 runs, 1 loop each)\n"
     ]
    }
   ],
   "source": [
    "%%timeit\n",
    "import random as rnd \n",
    "\n",
    "number_dices = 1000000\n",
    "\n",
    "many_dices = [rnd.randint(1,6) for _ in range(number_dices)]"
   ]
  },
  {
   "cell_type": "code",
   "execution_count": 106,
   "metadata": {},
   "outputs": [
    {
     "name": "stdout",
     "output_type": "stream",
     "text": [
      "15.7 ms ± 1.1 ms per loop (mean ± std. dev. of 7 runs, 10 loops each)\n"
     ]
    }
   ],
   "source": [
    "%%timeit\n",
    "\n",
    "number_dices = 1000000\n",
    "\n",
    "many_dices = np.random.randint(1,6,number_dices)"
   ]
  },
  {
   "cell_type": "markdown",
   "metadata": {},
   "source": [
    "<div style=\"max-width:66ch;\">\n",
    "\n",
    "---\n",
    "## File handling\n",
    "\n",
    "Read a text file using with-statement, which creates a context manager, that is used for resource management. In the case of reading a file it will take care of closing down the file automatically due to a `__exit__()` method that is implemented for files. Otherwise you need to manually call file.close() to release the resource when you are finished with it. Also the context manager also has error handling for you, otherwise you need to wrap it in try-except. \n",
    "\n",
    "In this section we will also go through a process to clean an ill-formatted text file. String manipulation is essential for this step. \n",
    "\n",
    "</div>"
   ]
  },
  {
   "cell_type": "code",
   "execution_count": 35,
   "metadata": {},
   "outputs": [
    {
     "name": "stdout",
     "output_type": "stream",
     "text": [
      "SUperViseD    LEARNinG IS a    PaRt    oF MaCHinE    LEARniNG,   wheRE aLgORithms    LEARn FRom a tRAINIng    DaTa Set. THese   aLgORithms   TRY   TO    MaKE   SeNSe   Of    ThE    DaTa   BY    MaTChiNG    INpUtS   TO    CoRResPonDInG   OutpUTs. In    suPERviseD    LEARNing,    EACH    DaTa   PoINt in    ThE   tRAINIng    Set    IS    LaBELEd WiTH    ThE    CoRReCT    OutpUT,    WHich   aLLOWS   thE ALgORithM    To    LEARn   FRom ThE    ExAMPles. THis   alLOWS   thE    ALgORithM    To    MaKe    PREDIcTions    On    UnSEEN    DaTa, BaSED On    ITs    TRaiNIng. iT    IS    USEd FoR    taSKS SuCH    AS CLaSSIFICaTion, WheRE ThE    GoAL    IS    To    aSSIGn    a LaBEL To    InpUt DaTa,    anD REGrESsIoN, WheRE ThE    GoAL    IS    To    PREDIcT    a CoNtINuoUS    OutpUT VaRIabLE. SuPERviseD    LEARNing    HaS    MaNY    APPLIcatIoNS In    ArEas LIke    Image ReCOGNitiON, NatuRaL    LaNGuaGE PRoCESSINg,    anD FiNaNCiaL FoRECasting.\n",
      "\n",
      "Supervised learning is a part of machine learning, where algorithms learn from a training data set.\n",
      "These algorithms try to make sense of the data by matching inputs to corresponding outputs.\n",
      "In supervised learning, each data point in the training set is labeled with the correct output, which allows the algorithm to learn from the examples.\n",
      "This allows the algorithm to make predictions on unseen data, based on its training.\n",
      "It is used for tasks such as classification, where the goal is to assign a label to input data, and regression, where the goal is to predict a continuous output variable.\n",
      "Supervised learning has many applications in areas like image recognition, natural language processing, and financial forecasting.\n"
     ]
    }
   ],
   "source": [
    "# regular expression\n",
    "import re\n",
    "# note that this works on jupyter notebook\n",
    "# I'll show you later how to do it in python script\n",
    "text_path = \"../../data/ml_text_raw.txt\" # relative path\n",
    "\n",
    "with open(text_path, \"r\") as file:\n",
    "    raw_text = file.read()\n",
    "\n",
    "# after context manager is closed, the variables within \n",
    "# the context manager are still in the global scope except for the file object\n",
    "print(raw_text)\n",
    "text_fixed_spacing = re.sub(r\"\\s+\",\" \", raw_text)\n",
    "text_list = [text.capitalize() for text in text_fixed_spacing.split(\". \")]\n",
    "\n",
    "# join with newlines for each sentence, we could choose another design\n",
    "cleaned_text = \".\\n\".join(text_list)\n",
    "\n",
    "print()\n",
    "print(cleaned_text)\n",
    "\n",
    "# open a new txt file and write the content of cleaned_text into it\n",
    "with open(\"../../data/ml_text_cleaned.txt\", \"w\") as file:\n",
    "    file.write(cleaned_text)\n",
    "\n",
    "    "
   ]
  },
  {
   "cell_type": "markdown",
   "metadata": {},
   "source": [
    "<div style=\"max-width:66ch;\">\n",
    "\n",
    "## Datetime\n",
    "\n",
    "Used for representing and working with date and time in Python\n",
    "- strftime: datetime obj -> str\n",
    "- strptime: str obj -> datetime obj\n",
    "\n",
    "Read more \n",
    "- [Datetime documentation](https://docs.python.org/3/library/datetime.html)\n",
    "- [w3schools - Datetime](https://www.w3schools.com/python/python_datetime.asp)\n",
    "\n",
    "</div>"
   ]
  },
  {
   "cell_type": "code",
   "execution_count": 1,
   "metadata": {},
   "outputs": [
    {
     "name": "stdout",
     "output_type": "stream",
     "text": [
      "2023-12-03 20:38:15.559809\n",
      "Todays date is 2023-12-03\n",
      "Today is Sunday\n",
      "The week is 48\n"
     ]
    }
   ],
   "source": [
    "from datetime import datetime \n",
    "\n",
    "now = datetime.now()\n",
    "print(now) # format: year-month-date hour:min:sec.microsecs\n",
    "print(f\"Todays date is {now.date()}\")\n",
    "print(f\"Today is {now.strftime('%A')}\")\n",
    "print(f\"The week is {now.strftime('%W')}\")\n"
   ]
  },
  {
   "cell_type": "code",
   "execution_count": 2,
   "metadata": {},
   "outputs": [
    {
     "name": "stdout",
     "output_type": "stream",
     "text": [
      "2025-06-05 00:00:00\n"
     ]
    },
    {
     "data": {
      "text/plain": [
       "datetime.datetime(2025, 6, 5, 0, 0)"
      ]
     },
     "execution_count": 2,
     "metadata": {},
     "output_type": "execute_result"
    }
   ],
   "source": [
    "graduation_date = \"5/6-2025\"\n",
    "graduation_date = datetime.strptime(graduation_date, \"%d/%m-%Y\")\n",
    "print(graduation_date) # __str__()\n",
    "graduation_date # __repr__()"
   ]
  },
  {
   "cell_type": "code",
   "execution_count": 3,
   "metadata": {},
   "outputs": [
    {
     "name": "stdout",
     "output_type": "stream",
     "text": [
      "549 days, 3:21:44.440191\n"
     ]
    },
    {
     "data": {
      "text/plain": [
       "datetime.timedelta(days=549, seconds=12104, microseconds=440191)"
      ]
     },
     "execution_count": 3,
     "metadata": {},
     "output_type": "execute_result"
    }
   ],
   "source": [
    "remaining_time = graduation_date-now\n",
    "print(remaining_time)\n",
    "remaining_time # a timedelta obj with days, sec, microsec"
   ]
  },
  {
   "cell_type": "code",
   "execution_count": 4,
   "metadata": {},
   "outputs": [
    {
     "name": "stdout",
     "output_type": "stream",
     "text": [
      "1.50 years left before graduation\n"
     ]
    }
   ],
   "source": [
    "print(f\"{remaining_time.days/365:.2f} years left before graduation\")"
   ]
  },
  {
   "cell_type": "code",
   "execution_count": 7,
   "metadata": {},
   "outputs": [
    {
     "data": {
      "text/plain": [
       "'Week: 52, day: Tue'"
      ]
     },
     "execution_count": 7,
     "metadata": {},
     "output_type": "execute_result"
    }
   ],
   "source": [
    "christmas_str = \"2024-12-24\"\n",
    "christmas_date = datetime.strptime(christmas_str, \"%Y-%m-%d\")\n",
    "christmas_date.strftime(\"Week: %W, day: %a\") # check calendar if correct"
   ]
  },
  {
   "cell_type": "markdown",
   "metadata": {},
   "source": [
    "<div style=\"max-width:66ch;\">\n",
    "\n",
    "---\n",
    "\n",
    "## Summary\n",
    "\n",
    "<p style=\"width:66ch;\">In this lecture we've covered different types of errors and basic error handling in Python, followed by different types of functions, which can be used for achieving DRY (don't repeat yourself). We also covered file handling, numpy and plotting graphs using matplotlib. Finally we went into some datetime, which will be important when working with real world data which includes time.</p>\n",
    "\n",
    "---\n",
    "\n",
    "</div>"
   ]
  },
  {
   "cell_type": "markdown",
   "metadata": {},
   "source": [
    "<div style=\"background-color: #FFF; color: #212121; border-radius: 1px; width:22ch; box-shadow: rgba(0, 0, 0, 0.16) 0px 1px 4px; display: flex; justify-content: center; align-items: center;\">\n",
    "<div style=\"padding: 1.5em 0; width: 70%;\">\n",
    "    <h2 style=\"font-size: 1.2rem;\">Kokchun Giang</h2>\n",
    "    <a href=\"https://www.linkedin.com/in/kokchungiang/\" target=\"_blank\" style=\"display: flex; align-items: center; gap: .4em; color:#0A66C2;\">\n",
    "        <img src=\"https://content.linkedin.com/content/dam/me/business/en-us/amp/brand-site/v2/bg/LI-Bug.svg.original.svg\" width=\"20\"> \n",
    "        LinkedIn profile\n",
    "    </a>\n",
    "    <a href=\"https://github.com/kokchun/Portfolio-Kokchun-Giang\" target=\"_blank\" style=\"display: flex; align-items: center; gap: .4em; margin: 1em 0; color:#0A66C2;\">\n",
    "        <img src=\"https://github.githubassets.com/images/modules/logos_page/GitHub-Mark.png\" width=\"20\"> \n",
    "        Github portfolio\n",
    "    </a>\n",
    "    <span>AIgineer AB</span>\n",
    "<div>\n",
    "</div>\n"
   ]
  }
 ],
 "metadata": {
  "kernelspec": {
   "display_name": "ai-part-1-handelsakademin-5RQamIMR-py3.9",
   "language": "python",
   "name": "python3"
  },
  "language_info": {
   "codemirror_mode": {
    "name": "ipython",
    "version": 3
   },
   "file_extension": ".py",
   "mimetype": "text/x-python",
   "name": "python",
   "nbconvert_exporter": "python",
   "pygments_lexer": "ipython3",
   "version": "3.9.9"
  },
  "orig_nbformat": 4
 },
 "nbformat": 4,
 "nbformat_minor": 2
}
